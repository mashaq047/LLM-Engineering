{
 "cells": [
  {
   "cell_type": "code",
   "execution_count": 1,
   "id": "d834f790",
   "metadata": {},
   "outputs": [],
   "source": [
    "import os\n",
    "from typing import List\n",
    "\n",
    "# LangChain + Chroma\n",
    "from langchain_community.document_loaders import TextLoader, PyPDFLoader, UnstructuredMarkdownLoader\n",
    "from langchain_community.embeddings import HuggingFaceEmbeddings\n",
    "from langchain_community.vectorstores import Chroma\n",
    "from langchain_core.documents import Document\n",
    "from langchain_text_splitters import RecursiveCharacterTextSplitter\n",
    "from langchain_core.prompts import ChatPromptTemplate\n",
    "from langchain_core.output_parsers import StrOutputParser\n",
    "from langchain_core.runnables import RunnablePassthrough\n",
    "from langchain_community.chat_models import ChatOllama\n",
    "from langchain.chains import ConversationalRetrievalChain\n",
    "from langchain.memory import ConversationBufferMemory\n",
    "import numpy as np\n",
    "# LLMs\n",
    "from transformers import AutoModelForCausalLM, AutoTokenizer, pipeline\n",
    "from langchain_community.llms.huggingface_pipeline import HuggingFacePipeline\n",
    "\n",
    "# UI\n",
    "import gradio as gr"
   ]
  },
  {
   "cell_type": "code",
   "execution_count": 2,
   "id": "3a640a9e",
   "metadata": {},
   "outputs": [],
   "source": [
    "CATALOG_DIR = os.environ.get(\"CATALOG_DIR\", \"./catalog_docs\")\n",
    "PERSIST_DIR = os.environ.get(\"CHROMA_PERSIST\", \"./chroma_products\")\n",
    "EMBEDDING_MODEL = \"sentence-transformers/all-MiniLM-L6-v2\"\n",
    "MAX_NEW_TOKENS = 512"
   ]
  },
  {
   "cell_type": "code",
   "execution_count": 3,
   "id": "ff37a7a9",
   "metadata": {},
   "outputs": [],
   "source": [
    "def load_documents(folder: str) -> List[Document]:\n",
    "    if not os.path.exists(folder):\n",
    "        os.makedirs(folder, exist_ok=True)\n",
    "        raise FileNotFoundError(f\"No catalog docs found in {folder}. Please add .txt, .md, or .pdf files.\")\n",
    "\n",
    "    docs = []\n",
    "    for file in os.listdir(folder):\n",
    "        path = os.path.join(folder, file)\n",
    "        if file.endswith(\".txt\"):\n",
    "            loader = TextLoader(path)\n",
    "            docs.extend(loader.load())\n",
    "        elif file.endswith(\".md\"):\n",
    "            loader = UnstructuredMarkdownLoader(path)\n",
    "            docs.extend(loader.load())\n",
    "    return docs\n",
    "\n",
    "# ---------- Embeddings + Vector Store ----------\n",
    "\n",
    "def build_vectorstore(docs: List[Document]):\n",
    "    splitter = RecursiveCharacterTextSplitter(chunk_size=500, chunk_overlap=50)\n",
    "    splits = splitter.split_documents(docs)\n",
    "    embeddings = HuggingFaceEmbeddings(model_name=EMBEDDING_MODEL)\n",
    "    vectordb = Chroma.from_documents(splits, embeddings, persist_directory=PERSIST_DIR)\n",
    "    vectordb.persist()\n",
    "    return vectordb"
   ]
  },
  {
   "cell_type": "code",
   "execution_count": 4,
   "id": "77d4aa37",
   "metadata": {},
   "outputs": [
    {
     "name": "stderr",
     "output_type": "stream",
     "text": [
      "C:\\Users\\masha\\AppData\\Local\\Temp\\ipykernel_17052\\3230485506.py:22: LangChainDeprecationWarning: The class `HuggingFaceEmbeddings` was deprecated in LangChain 0.2.2 and will be removed in 1.0. An updated version of the class exists in the :class:`~langchain-huggingface package and should be used instead. To use it run `pip install -U :class:`~langchain-huggingface` and import as `from :class:`~langchain_huggingface import HuggingFaceEmbeddings``.\n",
      "  embeddings = HuggingFaceEmbeddings(model_name=EMBEDDING_MODEL)\n",
      "c:\\Users\\masha\\anaconda3\\envs\\llms\\Lib\\site-packages\\torch\\nn\\modules\\module.py:1762: FutureWarning: `encoder_attention_mask` is deprecated and will be removed in version 4.55.0 for `BertSdpaSelfAttention.forward`.\n",
      "  return forward_call(*args, **kwargs)\n",
      "C:\\Users\\masha\\AppData\\Local\\Temp\\ipykernel_17052\\3230485506.py:24: LangChainDeprecationWarning: Since Chroma 0.4.x the manual persistence method is no longer supported as docs are automatically persisted.\n",
      "  vectordb.persist()\n"
     ]
    }
   ],
   "source": [
    "docs = load_documents(CATALOG_DIR)\n",
    "vectordb = build_vectorstore(docs)"
   ]
  },
  {
   "cell_type": "code",
   "execution_count": 5,
   "id": "f33c0df7",
   "metadata": {},
   "outputs": [
    {
     "name": "stdout",
     "output_type": "stream",
     "text": [
      "The vectors have 384 dimensions\n"
     ]
    }
   ],
   "source": [
    "collection = vectordb._collection\n",
    "sample_embedding = collection.get(limit=1, include=[\"embeddings\"])[\"embeddings\"][0]\n",
    "dimensions = len(sample_embedding)\n",
    "print(f\"The vectors have {dimensions:,} dimensions\")"
   ]
  },
  {
   "cell_type": "code",
   "execution_count": 8,
   "id": "c509ddee",
   "metadata": {},
   "outputs": [
    {
     "name": "stdout",
     "output_type": "stream",
     "text": [
      "['./catalog_docs\\\\headphones-airpods-pro-2.md', './catalog_docs\\\\headphones-airpods-pro-2.md', './catalog_docs\\\\headphones-akg-n700nc-m3.md', './catalog_docs\\\\headphones-akg-n700nc-m3.md', './catalog_docs\\\\headphones-anker-soundcore-space-one.txt', './catalog_docs\\\\headphones-anker-soundcore-space-one.txt', './catalog_docs\\\\headphones-apple-airpods-max.txt', './catalog_docs\\\\headphones-apple-airpods-max.txt', './catalog_docs\\\\headphones-audio-technica-ath-m50xbt2.md', './catalog_docs\\\\headphones-audio-technica-ath-m50xbt2.md', './catalog_docs\\\\headphones-bang-and-olufsen-h95.md', './catalog_docs\\\\headphones-bang-and-olufsen-h95.md', './catalog_docs\\\\headphones-beats-studio-pro.md', './catalog_docs\\\\headphones-beats-studio-pro.md', './catalog_docs\\\\headphones-beyerdynamic-dt-900-pro-x.txt', './catalog_docs\\\\headphones-beyerdynamic-dt-900-pro-x.txt', './catalog_docs\\\\headphones-bose-quietcomfort-ultra.md', './catalog_docs\\\\headphones-bose-quietcomfort-ultra.md', './catalog_docs\\\\headphones-cambridge-melomania-m100.txt', './catalog_docs\\\\headphones-cambridge-melomania-m100.txt', './catalog_docs\\\\headphones-edifier-stax-spirit-s5.md', './catalog_docs\\\\headphones-edifier-stax-spirit-s5.md', './catalog_docs\\\\headphones-google-pixel-buds-pro-2.txt', './catalog_docs\\\\headphones-google-pixel-buds-pro-2.txt', './catalog_docs\\\\headphones-hyperx-cloud-alpha-wireless.txt', './catalog_docs\\\\headphones-hyperx-cloud-alpha-wireless.txt', './catalog_docs\\\\headphones-jabra-elite-10.md', './catalog_docs\\\\headphones-jabra-elite-10.md', './catalog_docs\\\\headphones-marshall-major-v.md', './catalog_docs\\\\headphones-marshall-major-v.md', './catalog_docs\\\\headphones-nothing-ear-2.txt', './catalog_docs\\\\headphones-nothing-ear-2.txt', './catalog_docs\\\\headphones-oneplus-buds-3-pro.md', './catalog_docs\\\\headphones-oneplus-buds-3-pro.md', './catalog_docs\\\\headphones-razer-blackshark-v3-pro.txt', './catalog_docs\\\\headphones-razer-blackshark-v3-pro.txt', './catalog_docs\\\\headphones-samsung-galaxy-buds3-pro.md', './catalog_docs\\\\headphones-samsung-galaxy-buds3-pro.md', './catalog_docs\\\\headphones-sennheiser-momentum-5.txt', './catalog_docs\\\\headphones-sennheiser-momentum-5.txt', './catalog_docs\\\\headphones-shure-aonic-50-gen-2.txt', './catalog_docs\\\\headphones-shure-aonic-50-gen-2.txt', './catalog_docs\\\\headphones-skullcandy-crusher-evo-2.txt', './catalog_docs\\\\headphones-skullcandy-crusher-evo-2.txt', './catalog_docs\\\\headphones-sony-wh-1000xm6.txt', './catalog_docs\\\\headphones-sony-wh-1000xm6.txt', './catalog_docs\\\\headphones-steelseries-arctis-nova-7.md', './catalog_docs\\\\headphones-steelseries-arctis-nova-7.md', './catalog_docs\\\\headphones-technics-eah-az80.md', './catalog_docs\\\\headphones-technics-eah-az80.md', './catalog_docs\\\\laptops-acer-predator-helios-neo-16.txt', './catalog_docs\\\\laptops-acer-predator-helios-neo-16.txt', './catalog_docs\\\\laptops-acer-swift-x-14.txt', './catalog_docs\\\\laptops-acer-swift-x-14.txt', './catalog_docs\\\\laptops-alienware-m16-r2.md', './catalog_docs\\\\laptops-alienware-m16-r2.md', './catalog_docs\\\\laptops-apple-macbook-air-m3.md', './catalog_docs\\\\laptops-apple-macbook-air-m3.md', './catalog_docs\\\\laptops-apple-macbook-pro-14-m4.txt', './catalog_docs\\\\laptops-apple-macbook-pro-14-m4.txt', './catalog_docs\\\\laptops-asus-rog-zephyrus-g16.md', './catalog_docs\\\\laptops-asus-rog-zephyrus-g16.md', './catalog_docs\\\\laptops-asus-tuf-a15.md', './catalog_docs\\\\laptops-asus-tuf-a15.md', './catalog_docs\\\\laptops-asus-zenbook-s-13-oled.txt', './catalog_docs\\\\laptops-asus-zenbook-s-13-oled.txt', './catalog_docs\\\\laptops-dell-inspiron-14-2-in-1.txt', './catalog_docs\\\\laptops-dell-inspiron-14-2-in-1.txt', './catalog_docs\\\\laptops-dell-xps-15-9550.md', './catalog_docs\\\\laptops-dell-xps-15-9550.md', './catalog_docs\\\\laptops-framework-laptop-13-amd.md', './catalog_docs\\\\laptops-framework-laptop-13-amd.md', './catalog_docs\\\\laptops-gigabyte-aero-16.txt', './catalog_docs\\\\laptops-gigabyte-aero-16.txt', './catalog_docs\\\\laptops-hp-omen-16.md', './catalog_docs\\\\laptops-hp-omen-16.md', './catalog_docs\\\\laptops-hp-spectre-x360-14.txt', './catalog_docs\\\\laptops-hp-spectre-x360-14.txt', './catalog_docs\\\\laptops-huawei-matebook-x-pro-2024.txt', './catalog_docs\\\\laptops-huawei-matebook-x-pro-2024.txt', './catalog_docs\\\\laptops-infinix-inbook-x3-pro.txt', './catalog_docs\\\\laptops-infinix-inbook-x3-pro.txt', './catalog_docs\\\\laptops-lenovo-legion-5-pro.txt', './catalog_docs\\\\laptops-lenovo-legion-5-pro.txt', './catalog_docs\\\\laptops-lenovo-thinkpad-x1-carbon-gen-12.md', './catalog_docs\\\\laptops-lenovo-thinkpad-x1-carbon-gen-12.md', './catalog_docs\\\\laptops-lg-gram-17.txt', './catalog_docs\\\\laptops-lg-gram-17.txt', './catalog_docs\\\\laptops-microsoft-surface-laptop-7.txt', './catalog_docs\\\\laptops-microsoft-surface-laptop-7.txt', './catalog_docs\\\\laptops-msi-katana-15.md', './catalog_docs\\\\laptops-msi-katana-15.md', './catalog_docs\\\\laptops-msi-stealth-14-studio.md', './catalog_docs\\\\laptops-msi-stealth-14-studio.md', './catalog_docs\\\\laptops-razer-blade-16.txt', './catalog_docs\\\\laptops-razer-blade-16.txt', './catalog_docs\\\\laptops-realme-book-prime-2.md', './catalog_docs\\\\laptops-realme-book-prime-2.md', './catalog_docs\\\\laptops-samsung-galaxy-book4-pro.md', './catalog_docs\\\\laptops-samsung-galaxy-book4-pro.md', './catalog_docs\\\\smartphones-asus-rog-phone-9.txt', './catalog_docs\\\\smartphones-asus-rog-phone-9.txt', './catalog_docs\\\\smartphones-fairphone-5-plus.txt', './catalog_docs\\\\smartphones-fairphone-5-plus.txt', './catalog_docs\\\\smartphones-google-pixel-9-pro.md', './catalog_docs\\\\smartphones-google-pixel-9-pro.md', './catalog_docs\\\\smartphones-hmd-skyline.txt', './catalog_docs\\\\smartphones-hmd-skyline.txt', './catalog_docs\\\\smartphones-honor-magic-7-pro.md', './catalog_docs\\\\smartphones-honor-magic-7-pro.md', './catalog_docs\\\\smartphones-infinix-zero-40.md', './catalog_docs\\\\smartphones-infinix-zero-40.md', './catalog_docs\\\\smartphones-iphone-16-pro.md', './catalog_docs\\\\smartphones-iphone-16-pro.md', './catalog_docs\\\\smartphones-iqoo-13-pro.md', './catalog_docs\\\\smartphones-iqoo-13-pro.md', './catalog_docs\\\\smartphones-lava-blaze-pro-5g.md', './catalog_docs\\\\smartphones-lava-blaze-pro-5g.md', './catalog_docs\\\\smartphones-meizu-22-pro.txt', './catalog_docs\\\\smartphones-meizu-22-pro.txt', './catalog_docs\\\\smartphones-motorola-edge-50-pro.md', './catalog_docs\\\\smartphones-motorola-edge-50-pro.md', './catalog_docs\\\\smartphones-nothing-phone-2a-plus.md', './catalog_docs\\\\smartphones-nothing-phone-2a-plus.md', './catalog_docs\\\\smartphones-nothing-phone-3.txt', './catalog_docs\\\\smartphones-nothing-phone-3.txt', './catalog_docs\\\\smartphones-nubia-redmagic-10.txt', './catalog_docs\\\\smartphones-nubia-redmagic-10.txt', './catalog_docs\\\\smartphones-oneplus-13-pro.txt', './catalog_docs\\\\smartphones-oneplus-13-pro.txt', './catalog_docs\\\\smartphones-oppo-find-x8-pro.txt', './catalog_docs\\\\smartphones-oppo-find-x8-pro.txt', './catalog_docs\\\\smartphones-poco-f7-pro.md', './catalog_docs\\\\smartphones-poco-f7-pro.md', './catalog_docs\\\\smartphones-realme-gt-7-pro.txt', './catalog_docs\\\\smartphones-realme-gt-7-pro.txt', './catalog_docs\\\\smartphones-redmi-note-14-pro-plus.txt', './catalog_docs\\\\smartphones-redmi-note-14-pro-plus.txt', './catalog_docs\\\\smartphones-samsung-galaxy-s25-ultra.txt', './catalog_docs\\\\smartphones-samsung-galaxy-s25-ultra.txt', './catalog_docs\\\\smartphones-sony-xperia-1-vii.md', './catalog_docs\\\\smartphones-sony-xperia-1-vii.md', './catalog_docs\\\\smartphones-tecno-phantom-x4.txt', './catalog_docs\\\\smartphones-tecno-phantom-x4.txt', './catalog_docs\\\\smartphones-vivo-x200-pro.md', './catalog_docs\\\\smartphones-vivo-x200-pro.md', './catalog_docs\\\\smartphones-xiaomi-15-ultra.md', './catalog_docs\\\\smartphones-xiaomi-15-ultra.md', './catalog_docs\\\\smartphones-zte-axon-60-ultra.md', './catalog_docs\\\\smartphones-zte-axon-60-ultra.md', './catalog_docs\\\\smartwatches-amazfit-gtr-5-pro.md', './catalog_docs\\\\smartwatches-amazfit-gtr-5-pro.md', './catalog_docs\\\\smartwatches-amazfit-t-rex-3.md', './catalog_docs\\\\smartwatches-amazfit-t-rex-3.md', './catalog_docs\\\\smartwatches-apple-watch-series-10.txt', './catalog_docs\\\\smartwatches-apple-watch-series-10.txt', './catalog_docs\\\\smartwatches-boat-lunar-connect-pro.txt', './catalog_docs\\\\smartwatches-boat-lunar-connect-pro.txt', './catalog_docs\\\\smartwatches-casio-g-shock-move-2.txt', './catalog_docs\\\\smartwatches-casio-g-shock-move-2.txt', './catalog_docs\\\\smartwatches-coros-pace-3-pro.md', './catalog_docs\\\\smartwatches-coros-pace-3-pro.md', './catalog_docs\\\\smartwatches-fire-boltt-visionary-ultra.md', './catalog_docs\\\\smartwatches-fire-boltt-visionary-ultra.md', './catalog_docs\\\\smartwatches-fitbit-sense-3.txt', './catalog_docs\\\\smartwatches-fitbit-sense-3.txt', './catalog_docs\\\\smartwatches-fitbit-versa-5.md', './catalog_docs\\\\smartwatches-fitbit-versa-5.md', './catalog_docs\\\\smartwatches-fossil-gen-7.txt', './catalog_docs\\\\smartwatches-fossil-gen-7.txt', './catalog_docs\\\\smartwatches-garmin-fenix-8.md', './catalog_docs\\\\smartwatches-garmin-fenix-8.md', './catalog_docs\\\\smartwatches-garmin-venu-4.txt', './catalog_docs\\\\smartwatches-garmin-venu-4.txt', './catalog_docs\\\\smartwatches-google-pixel-watch-3.txt', './catalog_docs\\\\smartwatches-google-pixel-watch-3.txt', './catalog_docs\\\\smartwatches-honor-watch-gs-5.txt', './catalog_docs\\\\smartwatches-honor-watch-gs-5.txt', './catalog_docs\\\\smartwatches-huawei-watch-5-pro.txt', './catalog_docs\\\\smartwatches-huawei-watch-5-pro.txt', './catalog_docs\\\\smartwatches-noise-ultra-3-max.md', './catalog_docs\\\\smartwatches-noise-ultra-3-max.md', './catalog_docs\\\\smartwatches-oneplus-watch-3.md', './catalog_docs\\\\smartwatches-oneplus-watch-3.md', './catalog_docs\\\\smartwatches-oppo-watch-4-pro.txt', './catalog_docs\\\\smartwatches-oppo-watch-4-pro.txt', './catalog_docs\\\\smartwatches-pebble-cosmos-ultra.txt', './catalog_docs\\\\smartwatches-pebble-cosmos-ultra.txt', './catalog_docs\\\\smartwatches-realme-watch-4-pro.md', './catalog_docs\\\\smartwatches-realme-watch-4-pro.md', './catalog_docs\\\\smartwatches-samsung-galaxy-watch7-pro.md', './catalog_docs\\\\smartwatches-samsung-galaxy-watch7-pro.md', './catalog_docs\\\\smartwatches-suunto-vertical-2.txt', './catalog_docs\\\\smartwatches-suunto-vertical-2.txt', './catalog_docs\\\\smartwatches-ticwatch-pro-6.md', './catalog_docs\\\\smartwatches-ticwatch-pro-6.md', './catalog_docs\\\\smartwatches-withings-scanwatch-2.md', './catalog_docs\\\\smartwatches-withings-scanwatch-2.md', './catalog_docs\\\\smartwatches-xiaomi-watch-s3-pro.txt', './catalog_docs\\\\smartwatches-xiaomi-watch-s3-pro.txt']\n"
     ]
    }
   ],
   "source": [
    "result = collection.get(include=['embeddings', 'documents', 'metadatas'])\n",
    "vectors = np.array(result['embeddings'])\n",
    "documents = result['documents']\n",
    "metadatas = result['metadatas']\n",
    "doc_types = [metadata['source'] for metadata in result['metadatas']]\n",
    "print(doc_types)"
   ]
  },
  {
   "cell_type": "code",
   "execution_count": 10,
   "id": "c4a397dc",
   "metadata": {},
   "outputs": [],
   "source": [
    "\n",
    "category_colors = {\n",
    "    \"headphones\": \"blue\",\n",
    "    \"laptops\": \"green\",\n",
    "    \"smartphones\": \"red\",\n",
    "    \"smartwatches\": \"orange\"\n",
    "}\n",
    "\n",
    "# Extract category from each filepath and map to color\n",
    "colors = [\n",
    "     category_colors[os.path.basename(path).split(\"-\")[0]]\n",
    "    for path in doc_types\n",
    "]"
   ]
  },
  {
   "cell_type": "code",
   "execution_count": 11,
   "id": "df2034f2",
   "metadata": {},
   "outputs": [
    {
     "data": {
      "application/vnd.plotly.v1+json": {
       "config": {
        "plotlyServerURL": "https://plot.ly"
       },
       "data": [
        {
         "hoverinfo": "text",
         "marker": {
          "color": [
           "blue",
           "blue",
           "blue",
           "blue",
           "blue",
           "blue",
           "blue",
           "blue",
           "blue",
           "blue",
           "blue",
           "blue",
           "blue",
           "blue",
           "blue",
           "blue",
           "blue",
           "blue",
           "blue",
           "blue",
           "blue",
           "blue",
           "blue",
           "blue",
           "blue",
           "blue",
           "blue",
           "blue",
           "blue",
           "blue",
           "blue",
           "blue",
           "blue",
           "blue",
           "blue",
           "blue",
           "blue",
           "blue",
           "blue",
           "blue",
           "blue",
           "blue",
           "blue",
           "blue",
           "blue",
           "blue",
           "blue",
           "blue",
           "blue",
           "blue",
           "green",
           "green",
           "green",
           "green",
           "green",
           "green",
           "green",
           "green",
           "green",
           "green",
           "green",
           "green",
           "green",
           "green",
           "green",
           "green",
           "green",
           "green",
           "green",
           "green",
           "green",
           "green",
           "green",
           "green",
           "green",
           "green",
           "green",
           "green",
           "green",
           "green",
           "green",
           "green",
           "green",
           "green",
           "green",
           "green",
           "green",
           "green",
           "green",
           "green",
           "green",
           "green",
           "green",
           "green",
           "green",
           "green",
           "green",
           "green",
           "green",
           "green",
           "red",
           "red",
           "red",
           "red",
           "red",
           "red",
           "red",
           "red",
           "red",
           "red",
           "red",
           "red",
           "red",
           "red",
           "red",
           "red",
           "red",
           "red",
           "red",
           "red",
           "red",
           "red",
           "red",
           "red",
           "red",
           "red",
           "red",
           "red",
           "red",
           "red",
           "red",
           "red",
           "red",
           "red",
           "red",
           "red",
           "red",
           "red",
           "red",
           "red",
           "red",
           "red",
           "red",
           "red",
           "red",
           "red",
           "red",
           "red",
           "red",
           "red",
           "orange",
           "orange",
           "orange",
           "orange",
           "orange",
           "orange",
           "orange",
           "orange",
           "orange",
           "orange",
           "orange",
           "orange",
           "orange",
           "orange",
           "orange",
           "orange",
           "orange",
           "orange",
           "orange",
           "orange",
           "orange",
           "orange",
           "orange",
           "orange",
           "orange",
           "orange",
           "orange",
           "orange",
           "orange",
           "orange",
           "orange",
           "orange",
           "orange",
           "orange",
           "orange",
           "orange",
           "orange",
           "orange",
           "orange",
           "orange",
           "orange",
           "orange",
           "orange",
           "orange",
           "orange",
           "orange",
           "orange",
           "orange",
           "orange",
           "orange"
          ],
          "opacity": 0.8,
          "size": 5
         },
         "mode": "markers",
         "text": [
          "Type: ./catalog_docs\\headphones-airpods-pro-2.md<br>Text: AirPods Pro 2\n\nCategory: headphones SKU: HEA-BW5L8WZQ Release Year: 2023 Price (USD): $486.9\n\nSummar...",
          "Type: ./catalog_docs\\headphones-airpods-pro-2.md<br>Text: Ear tips\n\nCarrying case\n\nAdditional Details\n\nDimensions: 17.3 x 12.7 x 1.1 cm\n\nWeight: 1.77 kg\n\nWarr...",
          "Type: ./catalog_docs\\headphones-akg-n700nc-m3.md<br>Text: AKG N700NC M3\n\nCategory: headphones SKU: HEA-U0IN8BE2 Release Year: 2022 Price (USD): $370.81\n\nSumma...",
          "Type: ./catalog_docs\\headphones-akg-n700nc-m3.md<br>Text: Ear tips\n\nCarrying case\n\nAdditional Details\n\nDimensions: 7.1 x 25.1 x 2.0 cm\n\nWeight: 0.48 kg\n\nWarra...",
          "Type: ./catalog_docs\\headphones-anker-soundcore-space-one.txt<br>Text: Product Name: Anker Soundcore Space One\nCategory: headphones\nSKU: HEA-SG69LGVV\nRelease Year: 2022\nPr...",
          "Type: ./catalog_docs\\headphones-anker-soundcore-space-one.txt<br>Text: In the Box:\n- Headphones/Earbuds\n- Charging cable\n- Ear tips\n- Carrying case\n\nAdditional Details:\n- ...",
          "Type: ./catalog_docs\\headphones-apple-airpods-max.txt<br>Text: Product Name: Apple AirPods Max\nCategory: headphones\nSKU: HEA-JFAYANHG\nRelease Year: 2024\nPrice (USD...",
          "Type: ./catalog_docs\\headphones-apple-airpods-max.txt<br>Text: In the Box:\n- Headphones/Earbuds\n- Charging cable\n- Ear tips\n- Carrying case\n\nAdditional Details:\n- ...",
          "Type: ./catalog_docs\\headphones-audio-technica-ath-m50xbt2.md<br>Text: Audio-Technica ATH-M50xBT2\n\nCategory: headphones SKU: HEA-WR97G0JY Release Year: 2025 Price (USD): $...",
          "Type: ./catalog_docs\\headphones-audio-technica-ath-m50xbt2.md<br>Text: Ear tips\n\nCarrying case\n\nAdditional Details\n\nDimensions: 12.0 x 11.6 x 19.2 cm\n\nWeight: 1.71 kg\n\nWar...",
          "Type: ./catalog_docs\\headphones-bang-and-olufsen-h95.md<br>Text: Bang & Olufsen H95\n\nCategory: headphones SKU: HEA-NZ0ZWIZ6 Release Year: 2024 Price (USD): $849.09\n\n...",
          "Type: ./catalog_docs\\headphones-bang-and-olufsen-h95.md<br>Text: Ear tips\n\nCarrying case\n\nAdditional Details\n\nDimensions: 18.2 x 28.9 x 20.7 cm\n\nWeight: 0.94 kg\n\nWar...",
          "Type: ./catalog_docs\\headphones-beats-studio-pro.md<br>Text: Beats Studio Pro\n\nCategory: headphones SKU: HEA-TB4EV8KV Release Year: 2025 Price (USD): $706.1\n\nSum...",
          "Type: ./catalog_docs\\headphones-beats-studio-pro.md<br>Text: Ear tips\n\nCarrying case\n\nAdditional Details\n\nDimensions: 28.5 x 6.7 x 8.8 cm\n\nWeight: 1.47 kg\n\nWarra...",
          "Type: ./catalog_docs\\headphones-beyerdynamic-dt-900-pro-x.txt<br>Text: Product Name: Beyerdynamic DT 900 Pro X\nCategory: headphones\nSKU: HEA-0CN0FIY1\nRelease Year: 2022\nPr...",
          "Type: ./catalog_docs\\headphones-beyerdynamic-dt-900-pro-x.txt<br>Text: In the Box:\n- Headphones/Earbuds\n- Charging cable\n- Ear tips\n- Carrying case\n\nAdditional Details:\n- ...",
          "Type: ./catalog_docs\\headphones-bose-quietcomfort-ultra.md<br>Text: Bose QuietComfort Ultra\n\nCategory: headphones SKU: HEA-DMVGXWIH Release Year: 2022 Price (USD): $185...",
          "Type: ./catalog_docs\\headphones-bose-quietcomfort-ultra.md<br>Text: Ear tips\n\nCarrying case\n\nAdditional Details\n\nDimensions: 7.5 x 8.7 x 21.1 cm\n\nWeight: 2.65 kg\n\nWarra...",
          "Type: ./catalog_docs\\headphones-cambridge-melomania-m100.txt<br>Text: Product Name: Cambridge Melomania M100\nCategory: headphones\nSKU: HEA-E8EKLF72\nRelease Year: 2022\nPri...",
          "Type: ./catalog_docs\\headphones-cambridge-melomania-m100.txt<br>Text: In the Box:\n- Headphones/Earbuds\n- Charging cable\n- Ear tips\n- Carrying case\n\nAdditional Details:\n- ...",
          "Type: ./catalog_docs\\headphones-edifier-stax-spirit-s5.md<br>Text: Edifier Stax Spirit S5\n\nCategory: headphones SKU: HEA-WI57KYHQ Release Year: 2022 Price (USD): $556....",
          "Type: ./catalog_docs\\headphones-edifier-stax-spirit-s5.md<br>Text: Ear tips\n\nCarrying case\n\nAdditional Details\n\nDimensions: 26.4 x 16.5 x 17.1 cm\n\nWeight: 1.33 kg\n\nWar...",
          "Type: ./catalog_docs\\headphones-google-pixel-buds-pro-2.txt<br>Text: Product Name: Google Pixel Buds Pro 2\nCategory: headphones\nSKU: HEA-3O3P8XHB\nRelease Year: 2024\nPric...",
          "Type: ./catalog_docs\\headphones-google-pixel-buds-pro-2.txt<br>Text: In the Box:\n- Headphones/Earbuds\n- Charging cable\n- Ear tips\n- Carrying case\n\nAdditional Details:\n- ...",
          "Type: ./catalog_docs\\headphones-hyperx-cloud-alpha-wireless.txt<br>Text: Product Name: HyperX Cloud Alpha Wireless\nCategory: headphones\nSKU: HEA-G14X2N6I\nRelease Year: 2023\n...",
          "Type: ./catalog_docs\\headphones-hyperx-cloud-alpha-wireless.txt<br>Text: In the Box:\n- Headphones/Earbuds\n- Charging cable\n- Ear tips\n- Carrying case\n\nAdditional Details:\n- ...",
          "Type: ./catalog_docs\\headphones-jabra-elite-10.md<br>Text: Jabra Elite 10\n\nCategory: headphones SKU: HEA-B0W6IV5E Release Year: 2022 Price (USD): $649.79\n\nSumm...",
          "Type: ./catalog_docs\\headphones-jabra-elite-10.md<br>Text: Ear tips\n\nCarrying case\n\nAdditional Details\n\nDimensions: 23.0 x 26.9 x 23.4 cm\n\nWeight: 2.88 kg\n\nWar...",
          "Type: ./catalog_docs\\headphones-marshall-major-v.md<br>Text: Marshall Major V\n\nCategory: headphones SKU: HEA-ZPWZF7RY Release Year: 2024 Price (USD): $226.13\n\nSu...",
          "Type: ./catalog_docs\\headphones-marshall-major-v.md<br>Text: Ear tips\n\nCarrying case\n\nAdditional Details\n\nDimensions: 3.8 x 4.4 x 8.7 cm\n\nWeight: 1.63 kg\n\nWarran...",
          "Type: ./catalog_docs\\headphones-nothing-ear-2.txt<br>Text: Product Name: Nothing Ear (2)\nCategory: headphones\nSKU: HEA-EW0U4O55\nRelease Year: 2023\nPrice (USD):...",
          "Type: ./catalog_docs\\headphones-nothing-ear-2.txt<br>Text: In the Box:\n- Headphones/Earbuds\n- Charging cable\n- Ear tips\n- Carrying case\n\nAdditional Details:\n- ...",
          "Type: ./catalog_docs\\headphones-oneplus-buds-3-pro.md<br>Text: OnePlus Buds 3 Pro\n\nCategory: headphones SKU: HEA-7KCSRHWP Release Year: 2024 Price (USD): $221.36\n\n...",
          "Type: ./catalog_docs\\headphones-oneplus-buds-3-pro.md<br>Text: Ear tips\n\nCarrying case\n\nAdditional Details\n\nDimensions: 27.6 x 29.5 x 14.4 cm\n\nWeight: 2.68 kg\n\nWar...",
          "Type: ./catalog_docs\\headphones-razer-blackshark-v3-pro.txt<br>Text: Product Name: Razer BlackShark V3 Pro\nCategory: headphones\nSKU: HEA-M8MR2PR3\nRelease Year: 2023\nPric...",
          "Type: ./catalog_docs\\headphones-razer-blackshark-v3-pro.txt<br>Text: In the Box:\n- Headphones/Earbuds\n- Charging cable\n- Ear tips\n- Carrying case\n\nAdditional Details:\n- ...",
          "Type: ./catalog_docs\\headphones-samsung-galaxy-buds3-pro.md<br>Text: Samsung Galaxy Buds3 Pro\n\nCategory: headphones SKU: HEA-PKXMHCSP Release Year: 2024 Price (USD): $10...",
          "Type: ./catalog_docs\\headphones-samsung-galaxy-buds3-pro.md<br>Text: Charging cable\n\nEar tips\n\nCarrying case\n\nAdditional Details\n\nDimensions: 10.5 x 5.0 x 7.4 cm\n\nWeight...",
          "Type: ./catalog_docs\\headphones-sennheiser-momentum-5.txt<br>Text: Product Name: Sennheiser Momentum 5\nCategory: headphones\nSKU: HEA-MZSYTEIJ\nRelease Year: 2022\nPrice ...",
          "Type: ./catalog_docs\\headphones-sennheiser-momentum-5.txt<br>Text: In the Box:\n- Headphones/Earbuds\n- Charging cable\n- Ear tips\n- Carrying case\n\nAdditional Details:\n- ...",
          "Type: ./catalog_docs\\headphones-shure-aonic-50-gen-2.txt<br>Text: Product Name: Shure Aonic 50 Gen 2\nCategory: headphones\nSKU: HEA-TD83T9KB\nRelease Year: 2024\nPrice (...",
          "Type: ./catalog_docs\\headphones-shure-aonic-50-gen-2.txt<br>Text: In the Box:\n- Headphones/Earbuds\n- Charging cable\n- Ear tips\n- Carrying case\n\nAdditional Details:\n- ...",
          "Type: ./catalog_docs\\headphones-skullcandy-crusher-evo-2.txt<br>Text: Product Name: Skullcandy Crusher Evo 2\nCategory: headphones\nSKU: HEA-44XMAP6X\nRelease Year: 2024\nPri...",
          "Type: ./catalog_docs\\headphones-skullcandy-crusher-evo-2.txt<br>Text: In the Box:\n- Headphones/Earbuds\n- Charging cable\n- Ear tips\n- Carrying case\n\nAdditional Details:\n- ...",
          "Type: ./catalog_docs\\headphones-sony-wh-1000xm6.txt<br>Text: Product Name: Sony WH-1000XM6\nCategory: headphones\nSKU: HEA-RVALZFR2\nRelease Year: 2023\nPrice (USD):...",
          "Type: ./catalog_docs\\headphones-sony-wh-1000xm6.txt<br>Text: In the Box:\n- Headphones/Earbuds\n- Charging cable\n- Ear tips\n- Carrying case\n\nAdditional Details:\n- ...",
          "Type: ./catalog_docs\\headphones-steelseries-arctis-nova-7.md<br>Text: SteelSeries Arctis Nova 7\n\nCategory: headphones SKU: HEA-A7QP6J6E Release Year: 2024 Price (USD): $5...",
          "Type: ./catalog_docs\\headphones-steelseries-arctis-nova-7.md<br>Text: Ear tips\n\nCarrying case\n\nAdditional Details\n\nDimensions: 23.3 x 3.0 x 15.4 cm\n\nWeight: 3.06 kg\n\nWarr...",
          "Type: ./catalog_docs\\headphones-technics-eah-az80.md<br>Text: Technics EAH-AZ80\n\nCategory: headphones SKU: HEA-OZX81AMQ Release Year: 2023 Price (USD): $624.5\n\nSu...",
          "Type: ./catalog_docs\\headphones-technics-eah-az80.md<br>Text: Ear tips\n\nCarrying case\n\nAdditional Details\n\nDimensions: 10.8 x 10.2 x 5.4 cm\n\nWeight: 2.81 kg\n\nWarr...",
          "Type: ./catalog_docs\\laptops-acer-predator-helios-neo-16.txt<br>Text: Product Name: Acer Predator Helios Neo 16\nCategory: laptops\nSKU: LAP-RP67ZTSS\nRelease Year: 2023\nPri...",
          "Type: ./catalog_docs\\laptops-acer-predator-helios-neo-16.txt<br>Text: Additional Details:\n- Dimensions: 28.5 x 20.6 x 7.6 cm\n- Weight: 3.33 kg\n- Warranty: 6 months\n- Tags...",
          "Type: ./catalog_docs\\laptops-acer-swift-x-14.txt<br>Text: Product Name: Acer Swift X 14\nCategory: laptops\nSKU: LAP-7DM77UYH\nRelease Year: 2025\nPrice (USD): $5...",
          "Type: ./catalog_docs\\laptops-acer-swift-x-14.txt<br>Text: Additional Details:\n- Dimensions: 25.5 x 16.6 x 22.9 cm\n- Weight: 0.2 kg\n- Warranty: 1 year\n- Tags: ...",
          "Type: ./catalog_docs\\laptops-alienware-m16-r2.md<br>Text: Alienware m16 R2\n\nCategory: laptops SKU: LAP-IIHTDCH9 Release Year: 2024 Price (USD): $1567.43\n\nSumm...",
          "Type: ./catalog_docs\\laptops-alienware-m16-r2.md<br>Text: Dimensions: 27.1 x 6.4 x 8.4 cm\n\nWeight: 3.4 kg\n\nWarranty: 6 months\n\nTags: laptop, gaming, Wi‑Fi 6E\n...",
          "Type: ./catalog_docs\\laptops-apple-macbook-air-m3.md<br>Text: Apple MacBook Air M3\n\nCategory: laptops SKU: LAP-6IC9A4ZY Release Year: 2025 Price (USD): $1254.78\n\n...",
          "Type: ./catalog_docs\\laptops-apple-macbook-air-m3.md<br>Text: Dimensions: 3.3 x 4.1 x 13.0 cm\n\nWeight: 3.41 kg\n\nWarranty: 2 years\n\nTags: laptop, creator, Wi‑Fi 6E...",
          "Type: ./catalog_docs\\laptops-apple-macbook-pro-14-m4.txt<br>Text: Product Name: Apple MacBook Pro 14 M4\nCategory: laptops\nSKU: LAP-6C9UHQMH\nRelease Year: 2023\nPrice (...",
          "Type: ./catalog_docs\\laptops-apple-macbook-pro-14-m4.txt<br>Text: Additional Details:\n- Dimensions: 18.8 x 10.0 x 15.0 cm\n- Weight: 2.43 kg\n- Warranty: 1 year\n- Tags:...",
          "Type: ./catalog_docs\\laptops-asus-rog-zephyrus-g16.md<br>Text: Asus ROG Zephyrus G16\n\nCategory: laptops SKU: LAP-O82EJH0W Release Year: 2024 Price (USD): $2403.34\n...",
          "Type: ./catalog_docs\\laptops-asus-rog-zephyrus-g16.md<br>Text: Weight: 3.47 kg\n\nWarranty: 1 year\n\nTags: laptop, gaming, Wi‑Fi 6E\n\nGenerated On: 2025-08-21T14:14:15...",
          "Type: ./catalog_docs\\laptops-asus-tuf-a15.md<br>Text: Asus TUF A15\n\nCategory: laptops SKU: LAP-NNO18FIR Release Year: 2022 Price (USD): $2975.79\n\nSummary\n...",
          "Type: ./catalog_docs\\laptops-asus-tuf-a15.md<br>Text: Dimensions: 38.4 x 3.1 x 2.9 cm\n\nWeight: 1.17 kg\n\nWarranty: 3 years\n\nTags: laptop, ultrabook, Wi‑Fi ...",
          "Type: ./catalog_docs\\laptops-asus-zenbook-s-13-oled.txt<br>Text: Product Name: Asus Zenbook S 13 OLED\nCategory: laptops\nSKU: LAP-Y5YGHRCO\nRelease Year: 2025\nPrice (U...",
          "Type: ./catalog_docs\\laptops-asus-zenbook-s-13-oled.txt<br>Text: Additional Details:\n- Dimensions: 3.0 x 23.3 x 2.4 cm\n- Weight: 2.46 kg\n- Warranty: 3 years\n- Tags: ...",
          "Type: ./catalog_docs\\laptops-dell-inspiron-14-2-in-1.txt<br>Text: Product Name: Dell Inspiron 14 2-in-1\nCategory: laptops\nSKU: LAP-4G4OHS4Z\nRelease Year: 2025\nPrice (...",
          "Type: ./catalog_docs\\laptops-dell-inspiron-14-2-in-1.txt<br>Text: Additional Details:\n- Dimensions: 34.3 x 21.5 x 17.3 cm\n- Weight: 1.35 kg\n- Warranty: 3 years\n- Tags...",
          "Type: ./catalog_docs\\laptops-dell-xps-15-9550.md<br>Text: Dell XPS 15 9550\n\nCategory: laptops SKU: LAP-IFJYAXY8 Release Year: 2023 Price (USD): $2590.21\n\nSumm...",
          "Type: ./catalog_docs\\laptops-dell-xps-15-9550.md<br>Text: Dimensions: 35.8 x 13.4 x 9.4 cm\n\nWeight: 1.04 kg\n\nWarranty: 18 months\n\nTags: laptop, creator, Wi‑Fi...",
          "Type: ./catalog_docs\\laptops-framework-laptop-13-amd.md<br>Text: Framework Laptop 13 (AMD)\n\nCategory: laptops SKU: LAP-2GKWKQDU Release Year: 2024 Price (USD): $3174...",
          "Type: ./catalog_docs\\laptops-framework-laptop-13-amd.md<br>Text: Dimensions: 7.7 x 11.1 x 1.2 cm\n\nWeight: 2.89 kg\n\nWarranty: 2 years\n\nTags: laptop, gaming, Wi‑Fi 6E\n...",
          "Type: ./catalog_docs\\laptops-gigabyte-aero-16.txt<br>Text: Product Name: Gigabyte Aero 16\nCategory: laptops\nSKU: LAP-R2U748QV\nRelease Year: 2023\nPrice (USD): $...",
          "Type: ./catalog_docs\\laptops-gigabyte-aero-16.txt<br>Text: Additional Details:\n- Dimensions: 9.2 x 14.0 x 12.9 cm\n- Weight: 0.31 kg\n- Warranty: 6 months\n- Tags...",
          "Type: ./catalog_docs\\laptops-hp-omen-16.md<br>Text: HP Omen 16\n\nCategory: laptops SKU: LAP-GEUJKW41 Release Year: 2024 Price (USD): $2456.45\n\nSummary\n\nP...",
          "Type: ./catalog_docs\\laptops-hp-omen-16.md<br>Text: Weight: 1.85 kg\n\nWarranty: 1 year\n\nTags: laptop, ultrabook, Wi‑Fi 6E\n\nGenerated On: 2025-08-21T14:14...",
          "Type: ./catalog_docs\\laptops-hp-spectre-x360-14.txt<br>Text: Product Name: HP Spectre x360 14\nCategory: laptops\nSKU: LAP-21VJ4H43\nRelease Year: 2024\nPrice (USD):...",
          "Type: ./catalog_docs\\laptops-hp-spectre-x360-14.txt<br>Text: Additional Details:\n- Dimensions: 12.9 x 8.4 x 2.7 cm\n- Weight: 1.83 kg\n- Warranty: 3 years\n- Tags: ...",
          "Type: ./catalog_docs\\laptops-huawei-matebook-x-pro-2024.txt<br>Text: Product Name: Huawei MateBook X Pro 2024\nCategory: laptops\nSKU: LAP-COJTHK62\nRelease Year: 2022\nPric...",
          "Type: ./catalog_docs\\laptops-huawei-matebook-x-pro-2024.txt<br>Text: Additional Details:\n- Dimensions: 28.5 x 5.2 x 13.3 cm\n- Weight: 2.98 kg\n- Warranty: 2 years\n- Tags:...",
          "Type: ./catalog_docs\\laptops-infinix-inbook-x3-pro.txt<br>Text: Product Name: Infinix InBook X3 Pro\nCategory: laptops\nSKU: LAP-HERI9PW2\nRelease Year: 2024\nPrice (US...",
          "Type: ./catalog_docs\\laptops-infinix-inbook-x3-pro.txt<br>Text: Additional Details:\n- Dimensions: 31.8 x 25.3 x 19.2 cm\n- Weight: 0.83 kg\n- Warranty: 3 years\n- Tags...",
          "Type: ./catalog_docs\\laptops-lenovo-legion-5-pro.txt<br>Text: Product Name: Lenovo Legion 5 Pro\nCategory: laptops\nSKU: LAP-775U2G55\nRelease Year: 2023\nPrice (USD)...",
          "Type: ./catalog_docs\\laptops-lenovo-legion-5-pro.txt<br>Text: Additional Details:\n- Dimensions: 15.2 x 9.4 x 2.5 cm\n- Weight: 2.56 kg\n- Warranty: 18 months\n- Tags...",
          "Type: ./catalog_docs\\laptops-lenovo-thinkpad-x1-carbon-gen-12.md<br>Text: Lenovo ThinkPad X1 Carbon Gen 12\n\nCategory: laptops SKU: LAP-5VJ1T0Q2 Release Year: 2025 Price (USD)...",
          "Type: ./catalog_docs\\laptops-lenovo-thinkpad-x1-carbon-gen-12.md<br>Text: Dimensions: 28.8 x 13.4 x 16.5 cm\n\nWeight: 3.05 kg\n\nWarranty: 18 months\n\nTags: laptop, gaming, Wi‑Fi...",
          "Type: ./catalog_docs\\laptops-lg-gram-17.txt<br>Text: Product Name: LG Gram 17\nCategory: laptops\nSKU: LAP-505J3PJW\nRelease Year: 2025\nPrice (USD): $1008.4...",
          "Type: ./catalog_docs\\laptops-lg-gram-17.txt<br>Text: Additional Details:\n- Dimensions: 17.2 x 15.0 x 20.1 cm\n- Weight: 0.81 kg\n- Warranty: 1 year\n- Tags:...",
          "Type: ./catalog_docs\\laptops-microsoft-surface-laptop-7.txt<br>Text: Product Name: Microsoft Surface Laptop 7\nCategory: laptops\nSKU: LAP-2I0NCSHJ\nRelease Year: 2022\nPric...",
          "Type: ./catalog_docs\\laptops-microsoft-surface-laptop-7.txt<br>Text: Additional Details:\n- Dimensions: 15.6 x 21.8 x 23.1 cm\n- Weight: 1.61 kg\n- Warranty: 18 months\n- Ta...",
          "Type: ./catalog_docs\\laptops-msi-katana-15.md<br>Text: MSI Katana 15\n\nCategory: laptops SKU: LAP-4J6T5YS5 Release Year: 2024 Price (USD): $3384.37\n\nSummary...",
          "Type: ./catalog_docs\\laptops-msi-katana-15.md<br>Text: Dimensions: 16.5 x 27.9 x 12.2 cm\n\nWeight: 1.54 kg\n\nWarranty: 1 year\n\nTags: laptop, gaming, Wi‑Fi 6E...",
          "Type: ./catalog_docs\\laptops-msi-stealth-14-studio.md<br>Text: MSI Stealth 14 Studio\n\nCategory: laptops SKU: LAP-J2CQHUCV Release Year: 2023 Price (USD): $3028.7\n\n...",
          "Type: ./catalog_docs\\laptops-msi-stealth-14-studio.md<br>Text: Dimensions: 28.2 x 17.0 x 2.2 cm\n\nWeight: 0.58 kg\n\nWarranty: 1 year\n\nTags: laptop, ultrabook, Wi‑Fi ...",
          "Type: ./catalog_docs\\laptops-razer-blade-16.txt<br>Text: Product Name: Razer Blade 16\nCategory: laptops\nSKU: LAP-4KJWJH07\nRelease Year: 2024\nPrice (USD): $56...",
          "Type: ./catalog_docs\\laptops-razer-blade-16.txt<br>Text: Additional Details:\n- Dimensions: 6.7 x 12.3 x 7.2 cm\n- Weight: 2.3 kg\n- Warranty: 18 months\n- Tags:...",
          "Type: ./catalog_docs\\laptops-realme-book-prime-2.md<br>Text: Realme Book Prime 2\n\nCategory: laptops SKU: LAP-VWY3NK1B Release Year: 2023 Price (USD): $3299.85\n\nS...",
          "Type: ./catalog_docs\\laptops-realme-book-prime-2.md<br>Text: Dimensions: 24.5 x 26.1 x 11.1 cm\n\nWeight: 1.17 kg\n\nWarranty: 18 months\n\nTags: laptop, ultrabook, Wi...",
          "Type: ./catalog_docs\\laptops-samsung-galaxy-book4-pro.md<br>Text: Samsung Galaxy Book4 Pro\n\nCategory: laptops SKU: LAP-G13XE1FS Release Year: 2024 Price (USD): $2978....",
          "Type: ./catalog_docs\\laptops-samsung-galaxy-book4-pro.md<br>Text: Dimensions: 22.1 x 3.3 x 11.8 cm\n\nWeight: 1.41 kg\n\nWarranty: 2 years\n\nTags: laptop, gaming, Wi‑Fi 6E...",
          "Type: ./catalog_docs\\smartphones-asus-rog-phone-9.txt<br>Text: Product Name: Asus ROG Phone 9\nCategory: smartphones\nSKU: SMA-SRXQ16X7\nRelease Year: 2023\nPrice (USD...",
          "Type: ./catalog_docs\\smartphones-asus-rog-phone-9.txt<br>Text: In the Box:\n- Phone\n- USB-C cable\n- SIM ejector\n- Quick start guide\n\nAdditional Details:\n- Dimension...",
          "Type: ./catalog_docs\\smartphones-fairphone-5-plus.txt<br>Text: Product Name: Fairphone 5+\nCategory: smartphones\nSKU: SMA-03MEJ632\nRelease Year: 2023\nPrice (USD): $...",
          "Type: ./catalog_docs\\smartphones-fairphone-5-plus.txt<br>Text: In the Box:\n- Phone\n- USB-C cable\n- SIM ejector\n- Quick start guide\n\nAdditional Details:\n- Dimension...",
          "Type: ./catalog_docs\\smartphones-google-pixel-9-pro.md<br>Text: Google Pixel 9 Pro\n\nCategory: smartphones SKU: SMA-LEX6S5NW Release Year: 2025 Price (USD): $1129.27...",
          "Type: ./catalog_docs\\smartphones-google-pixel-9-pro.md<br>Text: USB-C cable\n\nSIM ejector\n\nQuick start guide\n\nAdditional Details\n\nDimensions: 7.2 x 4.9 x 19.8 cm\n\nWe...",
          "Type: ./catalog_docs\\smartphones-hmd-skyline.txt<br>Text: Product Name: HMD Skyline\nCategory: smartphones\nSKU: SMA-Y81B62S6\nRelease Year: 2025\nPrice (USD): $1...",
          "Type: ./catalog_docs\\smartphones-hmd-skyline.txt<br>Text: In the Box:\n- Phone\n- USB-C cable\n- SIM ejector\n- Quick start guide\n\nAdditional Details:\n- Dimension...",
          "Type: ./catalog_docs\\smartphones-honor-magic-7-pro.md<br>Text: Honor Magic 7 Pro\n\nCategory: smartphones SKU: SMA-2E1BKM9S Release Year: 2024 Price (USD): $1010.98\n...",
          "Type: ./catalog_docs\\smartphones-honor-magic-7-pro.md<br>Text: USB-C cable\n\nSIM ejector\n\nQuick start guide\n\nAdditional Details\n\nDimensions: 3.3 x 8.7 x 12.5 cm\n\nWe...",
          "Type: ./catalog_docs\\smartphones-infinix-zero-40.md<br>Text: Infinix Zero 40\n\nCategory: smartphones SKU: SMA-NC4IAEGR Release Year: 2024 Price (USD): $1335.75\n\nS...",
          "Type: ./catalog_docs\\smartphones-infinix-zero-40.md<br>Text: USB-C cable\n\nSIM ejector\n\nQuick start guide\n\nAdditional Details\n\nDimensions: 12.3 x 27.1 x 12.4 cm\n\n...",
          "Type: ./catalog_docs\\smartphones-iphone-16-pro.md<br>Text: iPhone 16 Pro\n\nCategory: smartphones SKU: SMA-A6H8M8AV Release Year: 2024 Price (USD): $394.39\n\nSumm...",
          "Type: ./catalog_docs\\smartphones-iphone-16-pro.md<br>Text: USB-C cable\n\nSIM ejector\n\nQuick start guide\n\nAdditional Details\n\nDimensions: 29.3 x 5.3 x 16.7 cm\n\nW...",
          "Type: ./catalog_docs\\smartphones-iqoo-13-pro.md<br>Text: iQOO 13 Pro\n\nCategory: smartphones SKU: SMA-KGP5P3HL Release Year: 2022 Price (USD): $457.0\n\nSummary...",
          "Type: ./catalog_docs\\smartphones-iqoo-13-pro.md<br>Text: USB-C cable\n\nSIM ejector\n\nQuick start guide\n\nAdditional Details\n\nDimensions: 5.4 x 29.5 x 14.5 cm\n\nW...",
          "Type: ./catalog_docs\\smartphones-lava-blaze-pro-5g.md<br>Text: Lava Blaze Pro 5G\n\nCategory: smartphones SKU: SMA-4DRB35GH Release Year: 2023 Price (USD): $825.75\n\n...",
          "Type: ./catalog_docs\\smartphones-lava-blaze-pro-5g.md<br>Text: USB-C cable\n\nSIM ejector\n\nQuick start guide\n\nAdditional Details\n\nDimensions: 23.6 x 24.1 x 19.2 cm\n\n...",
          "Type: ./catalog_docs\\smartphones-meizu-22-pro.txt<br>Text: Product Name: Meizu 22 Pro\nCategory: smartphones\nSKU: SMA-KK1G3BE4\nRelease Year: 2023\nPrice (USD): $...",
          "Type: ./catalog_docs\\smartphones-meizu-22-pro.txt<br>Text: In the Box:\n- Phone\n- USB-C cable\n- SIM ejector\n- Quick start guide\n\nAdditional Details:\n- Dimension...",
          "Type: ./catalog_docs\\smartphones-motorola-edge-50-pro.md<br>Text: Motorola Edge 50 Pro\n\nCategory: smartphones SKU: SMA-LTQGO3NU Release Year: 2023 Price (USD): $235.2...",
          "Type: ./catalog_docs\\smartphones-motorola-edge-50-pro.md<br>Text: USB-C cable\n\nSIM ejector\n\nQuick start guide\n\nAdditional Details\n\nDimensions: 18.4 x 4.7 x 1.2 cm\n\nWe...",
          "Type: ./catalog_docs\\smartphones-nothing-phone-2a-plus.md<br>Text: Nothing Phone (2a) Plus\n\nCategory: smartphones SKU: SMA-113OJ1U2 Release Year: 2023 Price (USD): $45...",
          "Type: ./catalog_docs\\smartphones-nothing-phone-2a-plus.md<br>Text: USB-C cable\n\nSIM ejector\n\nQuick start guide\n\nAdditional Details\n\nDimensions: 21.3 x 12.2 x 8.7 cm\n\nW...",
          "Type: ./catalog_docs\\smartphones-nothing-phone-3.txt<br>Text: Product Name: Nothing Phone (3)\nCategory: smartphones\nSKU: SMA-5EVMUJVP\nRelease Year: 2025\nPrice (US...",
          "Type: ./catalog_docs\\smartphones-nothing-phone-3.txt<br>Text: In the Box:\n- Phone\n- USB-C cable\n- SIM ejector\n- Quick start guide\n\nAdditional Details:\n- Dimension...",
          "Type: ./catalog_docs\\smartphones-nubia-redmagic-10.txt<br>Text: Product Name: Nubia RedMagic 10\nCategory: smartphones\nSKU: SMA-QGLB6PRP\nRelease Year: 2025\nPrice (US...",
          "Type: ./catalog_docs\\smartphones-nubia-redmagic-10.txt<br>Text: In the Box:\n- Phone\n- USB-C cable\n- SIM ejector\n- Quick start guide\n\nAdditional Details:\n- Dimension...",
          "Type: ./catalog_docs\\smartphones-oneplus-13-pro.txt<br>Text: Product Name: OnePlus 13 Pro\nCategory: smartphones\nSKU: SMA-RCBVKP8U\nRelease Year: 2025\nPrice (USD):...",
          "Type: ./catalog_docs\\smartphones-oneplus-13-pro.txt<br>Text: In the Box:\n- Phone\n- USB-C cable\n- SIM ejector\n- Quick start guide\n\nAdditional Details:\n- Dimension...",
          "Type: ./catalog_docs\\smartphones-oppo-find-x8-pro.txt<br>Text: Product Name: Oppo Find X8 Pro\nCategory: smartphones\nSKU: SMA-0KPIEIVN\nRelease Year: 2022\nPrice (USD...",
          "Type: ./catalog_docs\\smartphones-oppo-find-x8-pro.txt<br>Text: In the Box:\n- Phone\n- USB-C cable\n- SIM ejector\n- Quick start guide\n\nAdditional Details:\n- Dimension...",
          "Type: ./catalog_docs\\smartphones-poco-f7-pro.md<br>Text: Poco F7 Pro\n\nCategory: smartphones SKU: SMA-2NUMUO6G Release Year: 2023 Price (USD): $1286.32\n\nSumma...",
          "Type: ./catalog_docs\\smartphones-poco-f7-pro.md<br>Text: Quick start guide\n\nAdditional Details\n\nDimensions: 27.2 x 15.2 x 1.6 cm\n\nWeight: 1.29 kg\n\nWarranty: ...",
          "Type: ./catalog_docs\\smartphones-realme-gt-7-pro.txt<br>Text: Product Name: Realme GT 7 Pro\nCategory: smartphones\nSKU: SMA-44IRGUHA\nRelease Year: 2023\nPrice (USD)...",
          "Type: ./catalog_docs\\smartphones-realme-gt-7-pro.txt<br>Text: In the Box:\n- Phone\n- USB-C cable\n- SIM ejector\n- Quick start guide\n\nAdditional Details:\n- Dimension...",
          "Type: ./catalog_docs\\smartphones-redmi-note-14-pro-plus.txt<br>Text: Product Name: Redmi Note 14 Pro+\nCategory: smartphones\nSKU: SMA-EUMBDJUT\nRelease Year: 2025\nPrice (U...",
          "Type: ./catalog_docs\\smartphones-redmi-note-14-pro-plus.txt<br>Text: In the Box:\n- Phone\n- USB-C cable\n- SIM ejector\n- Quick start guide\n\nAdditional Details:\n- Dimension...",
          "Type: ./catalog_docs\\smartphones-samsung-galaxy-s25-ultra.txt<br>Text: Product Name: Samsung Galaxy S25 Ultra\nCategory: smartphones\nSKU: SMA-6AHEKHCQ\nRelease Year: 2024\nPr...",
          "Type: ./catalog_docs\\smartphones-samsung-galaxy-s25-ultra.txt<br>Text: In the Box:\n- Phone\n- USB-C cable\n- SIM ejector\n- Quick start guide\n\nAdditional Details:\n- Dimension...",
          "Type: ./catalog_docs\\smartphones-sony-xperia-1-vii.md<br>Text: Sony Xperia 1 VII\n\nCategory: smartphones SKU: SMA-6JK9ZE5G Release Year: 2022 Price (USD): $1100.92\n...",
          "Type: ./catalog_docs\\smartphones-sony-xperia-1-vii.md<br>Text: USB-C cable\n\nSIM ejector\n\nQuick start guide\n\nAdditional Details\n\nDimensions: 7.5 x 23.2 x 17.9 cm\n\nW...",
          "Type: ./catalog_docs\\smartphones-tecno-phantom-x4.txt<br>Text: Product Name: Tecno Phantom X4\nCategory: smartphones\nSKU: SMA-UKIGHVDH\nRelease Year: 2024\nPrice (USD...",
          "Type: ./catalog_docs\\smartphones-tecno-phantom-x4.txt<br>Text: In the Box:\n- Phone\n- USB-C cable\n- SIM ejector\n- Quick start guide\n\nAdditional Details:\n- Dimension...",
          "Type: ./catalog_docs\\smartphones-vivo-x200-pro.md<br>Text: Vivo X200 Pro\n\nCategory: smartphones SKU: SMA-XZXJQSJE Release Year: 2023 Price (USD): $582.52\n\nSumm...",
          "Type: ./catalog_docs\\smartphones-vivo-x200-pro.md<br>Text: Quick start guide\n\nAdditional Details\n\nDimensions: 27.0 x 17.2 x 17.5 cm\n\nWeight: 1.54 kg\n\nWarranty:...",
          "Type: ./catalog_docs\\smartphones-xiaomi-15-ultra.md<br>Text: Xiaomi 15 Ultra\n\nCategory: smartphones SKU: SMA-KC6XMAEA Release Year: 2024 Price (USD): $324.72\n\nSu...",
          "Type: ./catalog_docs\\smartphones-xiaomi-15-ultra.md<br>Text: USB-C cable\n\nSIM ejector\n\nQuick start guide\n\nAdditional Details\n\nDimensions: 11.9 x 17.9 x 23.6 cm\n\n...",
          "Type: ./catalog_docs\\smartphones-zte-axon-60-ultra.md<br>Text: ZTE Axon 60 Ultra\n\nCategory: smartphones SKU: SMA-NGXHM906 Release Year: 2022 Price (USD): $649.24\n\n...",
          "Type: ./catalog_docs\\smartphones-zte-axon-60-ultra.md<br>Text: USB-C cable\n\nSIM ejector\n\nQuick start guide\n\nAdditional Details\n\nDimensions: 19.1 x 29.3 x 13.7 cm\n\n...",
          "Type: ./catalog_docs\\smartwatches-amazfit-gtr-5-pro.md<br>Text: Amazfit GTR 5 Pro\n\nCategory: smartwatches SKU: SMA-FN8R2OUS Release Year: 2022 Price (USD): $544.21\n...",
          "Type: ./catalog_docs\\smartwatches-amazfit-gtr-5-pro.md<br>Text: Quick start guide\n\nAdditional Details\n\nDimensions: 31.4 x 20.7 x 21.5 cm\n\nWeight: 3.34 kg\n\nWarranty:...",
          "Type: ./catalog_docs\\smartwatches-amazfit-t-rex-3.md<br>Text: Amazfit T-Rex 3\n\nCategory: smartwatches SKU: SMA-EHQEPNSI Release Year: 2025 Price (USD): $813.45\n\nS...",
          "Type: ./catalog_docs\\smartwatches-amazfit-t-rex-3.md<br>Text: Quick start guide\n\nAdditional Details\n\nDimensions: 38.4 x 13.6 x 22.5 cm\n\nWeight: 3.27 kg\n\nWarranty:...",
          "Type: ./catalog_docs\\smartwatches-apple-watch-series-10.txt<br>Text: Product Name: Apple Watch Series 10\nCategory: smartwatches\nSKU: SMA-58WIQV03\nRelease Year: 2024\nPric...",
          "Type: ./catalog_docs\\smartwatches-apple-watch-series-10.txt<br>Text: In the Box:\n- Watch\n- Strap\n- Magnetic charger\n- Quick start guide\n\nAdditional Details:\n- Dimensions...",
          "Type: ./catalog_docs\\smartwatches-boat-lunar-connect-pro.txt<br>Text: Product Name: boAt Lunar Connect Pro\nCategory: smartwatches\nSKU: SMA-NFG5FTPW\nRelease Year: 2022\nPri...",
          "Type: ./catalog_docs\\smartwatches-boat-lunar-connect-pro.txt<br>Text: In the Box:\n- Watch\n- Strap\n- Magnetic charger\n- Quick start guide\n\nAdditional Details:\n- Dimensions...",
          "Type: ./catalog_docs\\smartwatches-casio-g-shock-move-2.txt<br>Text: Product Name: Casio G-Shock Move 2\nCategory: smartwatches\nSKU: SMA-55QDGJWK\nRelease Year: 2025\nPrice...",
          "Type: ./catalog_docs\\smartwatches-casio-g-shock-move-2.txt<br>Text: In the Box:\n- Watch\n- Strap\n- Magnetic charger\n- Quick start guide\n\nAdditional Details:\n- Dimensions...",
          "Type: ./catalog_docs\\smartwatches-coros-pace-3-pro.md<br>Text: Coros Pace 3 Pro\n\nCategory: smartwatches SKU: SMA-60AQH5HY Release Year: 2023 Price (USD): $813.0\n\nS...",
          "Type: ./catalog_docs\\smartwatches-coros-pace-3-pro.md<br>Text: Quick start guide\n\nAdditional Details\n\nDimensions: 22.2 x 10.5 x 3.7 cm\n\nWeight: 0.41 kg\n\nWarranty: ...",
          "Type: ./catalog_docs\\smartwatches-fire-boltt-visionary-ultra.md<br>Text: Fire-Boltt Visionary Ultra\n\nCategory: smartwatches SKU: SMA-8EKYS4U8 Release Year: 2025 Price (USD):...",
          "Type: ./catalog_docs\\smartwatches-fire-boltt-visionary-ultra.md<br>Text: Strap\n\nMagnetic charger\n\nQuick start guide\n\nAdditional Details\n\nDimensions: 34.8 x 16.6 x 2.6 cm\n\nWe...",
          "Type: ./catalog_docs\\smartwatches-fitbit-sense-3.txt<br>Text: Product Name: Fitbit Sense 3\nCategory: smartwatches\nSKU: SMA-XJEZLHKX\nRelease Year: 2023\nPrice (USD)...",
          "Type: ./catalog_docs\\smartwatches-fitbit-sense-3.txt<br>Text: In the Box:\n- Watch\n- Strap\n- Magnetic charger\n- Quick start guide\n\nAdditional Details:\n- Dimensions...",
          "Type: ./catalog_docs\\smartwatches-fitbit-versa-5.md<br>Text: Fitbit Versa 5\n\nCategory: smartwatches SKU: SMA-8OL00B8J Release Year: 2025 Price (USD): $768.82\n\nSu...",
          "Type: ./catalog_docs\\smartwatches-fitbit-versa-5.md<br>Text: Quick start guide\n\nAdditional Details\n\nDimensions: 24.7 x 13.1 x 22.2 cm\n\nWeight: 0.89 kg\n\nWarranty:...",
          "Type: ./catalog_docs\\smartwatches-fossil-gen-7.txt<br>Text: Product Name: Fossil Gen 7\nCategory: smartwatches\nSKU: SMA-ROL27N3N\nRelease Year: 2023\nPrice (USD): ...",
          "Type: ./catalog_docs\\smartwatches-fossil-gen-7.txt<br>Text: In the Box:\n- Watch\n- Strap\n- Magnetic charger\n- Quick start guide\n\nAdditional Details:\n- Dimensions...",
          "Type: ./catalog_docs\\smartwatches-garmin-fenix-8.md<br>Text: Garmin Fenix 8\n\nCategory: smartwatches SKU: SMA-OVL02X30 Release Year: 2025 Price (USD): $527.64\n\nSu...",
          "Type: ./catalog_docs\\smartwatches-garmin-fenix-8.md<br>Text: Quick start guide\n\nAdditional Details\n\nDimensions: 16.9 x 28.6 x 3.4 cm\n\nWeight: 2.1 kg\n\nWarranty: 1...",
          "Type: ./catalog_docs\\smartwatches-garmin-venu-4.txt<br>Text: Product Name: Garmin Venu 4\nCategory: smartwatches\nSKU: SMA-A0YL4YSU\nRelease Year: 2024\nPrice (USD):...",
          "Type: ./catalog_docs\\smartwatches-garmin-venu-4.txt<br>Text: In the Box:\n- Watch\n- Strap\n- Magnetic charger\n- Quick start guide\n\nAdditional Details:\n- Dimensions...",
          "Type: ./catalog_docs\\smartwatches-google-pixel-watch-3.txt<br>Text: Product Name: Google Pixel Watch 3\nCategory: smartwatches\nSKU: SMA-4AO0OKP9\nRelease Year: 2024\nPrice...",
          "Type: ./catalog_docs\\smartwatches-google-pixel-watch-3.txt<br>Text: In the Box:\n- Watch\n- Strap\n- Magnetic charger\n- Quick start guide\n\nAdditional Details:\n- Dimensions...",
          "Type: ./catalog_docs\\smartwatches-honor-watch-gs-5.txt<br>Text: Product Name: Honor Watch GS 5\nCategory: smartwatches\nSKU: SMA-B13X14LG\nRelease Year: 2024\nPrice (US...",
          "Type: ./catalog_docs\\smartwatches-honor-watch-gs-5.txt<br>Text: In the Box:\n- Watch\n- Strap\n- Magnetic charger\n- Quick start guide\n\nAdditional Details:\n- Dimensions...",
          "Type: ./catalog_docs\\smartwatches-huawei-watch-5-pro.txt<br>Text: Product Name: Huawei Watch 5 Pro\nCategory: smartwatches\nSKU: SMA-ANQGXBVF\nRelease Year: 2023\nPrice (...",
          "Type: ./catalog_docs\\smartwatches-huawei-watch-5-pro.txt<br>Text: In the Box:\n- Watch\n- Strap\n- Magnetic charger\n- Quick start guide\n\nAdditional Details:\n- Dimensions...",
          "Type: ./catalog_docs\\smartwatches-noise-ultra-3-max.md<br>Text: Noise Ultra 3 Max\n\nCategory: smartwatches SKU: SMA-EPWNPIND Release Year: 2023 Price (USD): $859.46\n...",
          "Type: ./catalog_docs\\smartwatches-noise-ultra-3-max.md<br>Text: Quick start guide\n\nAdditional Details\n\nDimensions: 36.1 x 22.8 x 9.9 cm\n\nWeight: 3.4 kg\n\nWarranty: 3...",
          "Type: ./catalog_docs\\smartwatches-oneplus-watch-3.md<br>Text: OnePlus Watch 3\n\nCategory: smartwatches SKU: SMA-QEBTUEWI Release Year: 2022 Price (USD): $227.23\n\nS...",
          "Type: ./catalog_docs\\smartwatches-oneplus-watch-3.md<br>Text: Quick start guide\n\nAdditional Details\n\nDimensions: 31.2 x 27.5 x 14.9 cm\n\nWeight: 0.11 kg\n\nWarranty:...",
          "Type: ./catalog_docs\\smartwatches-oppo-watch-4-pro.txt<br>Text: Product Name: Oppo Watch 4 Pro\nCategory: smartwatches\nSKU: SMA-6BZS0I32\nRelease Year: 2025\nPrice (US...",
          "Type: ./catalog_docs\\smartwatches-oppo-watch-4-pro.txt<br>Text: In the Box:\n- Watch\n- Strap\n- Magnetic charger\n- Quick start guide\n\nAdditional Details:\n- Dimensions...",
          "Type: ./catalog_docs\\smartwatches-pebble-cosmos-ultra.txt<br>Text: Product Name: Pebble Cosmos Ultra\nCategory: smartwatches\nSKU: SMA-ZO6DIBMV\nRelease Year: 2022\nPrice ...",
          "Type: ./catalog_docs\\smartwatches-pebble-cosmos-ultra.txt<br>Text: In the Box:\n- Watch\n- Strap\n- Magnetic charger\n- Quick start guide\n\nAdditional Details:\n- Dimensions...",
          "Type: ./catalog_docs\\smartwatches-realme-watch-4-pro.md<br>Text: Realme Watch 4 Pro\n\nCategory: smartwatches SKU: SMA-69872K13 Release Year: 2025 Price (USD): $501.18...",
          "Type: ./catalog_docs\\smartwatches-realme-watch-4-pro.md<br>Text: Quick start guide\n\nAdditional Details\n\nDimensions: 16.3 x 23.6 x 11.0 cm\n\nWeight: 2.08 kg\n\nWarranty:...",
          "Type: ./catalog_docs\\smartwatches-samsung-galaxy-watch7-pro.md<br>Text: Samsung Galaxy Watch7 Pro\n\nCategory: smartwatches SKU: SMA-1UZMWOD7 Release Year: 2022 Price (USD): ...",
          "Type: ./catalog_docs\\smartwatches-samsung-galaxy-watch7-pro.md<br>Text: Quick start guide\n\nAdditional Details\n\nDimensions: 29.9 x 21.5 x 13.3 cm\n\nWeight: 0.05 kg\n\nWarranty:...",
          "Type: ./catalog_docs\\smartwatches-suunto-vertical-2.txt<br>Text: Product Name: Suunto Vertical 2\nCategory: smartwatches\nSKU: SMA-S3MY8PGG\nRelease Year: 2023\nPrice (U...",
          "Type: ./catalog_docs\\smartwatches-suunto-vertical-2.txt<br>Text: In the Box:\n- Watch\n- Strap\n- Magnetic charger\n- Quick start guide\n\nAdditional Details:\n- Dimensions...",
          "Type: ./catalog_docs\\smartwatches-ticwatch-pro-6.md<br>Text: TicWatch Pro 6\n\nCategory: smartwatches SKU: SMA-IONXSOGD Release Year: 2022 Price (USD): $809.74\n\nSu...",
          "Type: ./catalog_docs\\smartwatches-ticwatch-pro-6.md<br>Text: Quick start guide\n\nAdditional Details\n\nDimensions: 37.2 x 7.8 x 9.9 cm\n\nWeight: 1.91 kg\n\nWarranty: 1...",
          "Type: ./catalog_docs\\smartwatches-withings-scanwatch-2.md<br>Text: Withings ScanWatch 2\n\nCategory: smartwatches SKU: SMA-MZO4RLUD Release Year: 2023 Price (USD): $836....",
          "Type: ./catalog_docs\\smartwatches-withings-scanwatch-2.md<br>Text: Quick start guide\n\nAdditional Details\n\nDimensions: 15.2 x 12.1 x 0.9 cm\n\nWeight: 1.52 kg\n\nWarranty: ...",
          "Type: ./catalog_docs\\smartwatches-xiaomi-watch-s3-pro.txt<br>Text: Product Name: Xiaomi Watch S3 Pro\nCategory: smartwatches\nSKU: SMA-W87HIYVH\nRelease Year: 2025\nPrice ...",
          "Type: ./catalog_docs\\smartwatches-xiaomi-watch-s3-pro.txt<br>Text: In the Box:\n- Watch\n- Strap\n- Magnetic charger\n- Quick start guide\n\nAdditional Details:\n- Dimensions..."
         ],
         "type": "scatter",
         "x": {
          "bdata": "AH5cwXm+m0HQZHbBt46aQWYYbcHFgKNBHWJcwWyOpEFzfWvBOiecQakYa8H2ZZtBNTphwahKm0FIY3DBzvijQSwEZsF/xppBC0t3wdL5o0G0D2XBNgSZQX+OWsFV/aJB4ZtuwY1ro0H3DHTBbRSZQWHHZ8HCtppB4nFnwZG+o0GSH1vBhOmYQZHaasGjiqNBZgpUwUuTn0FVs2nBq3GjQU42bMF0gKRBcSpywaGhpkEKtW3B+JGmQZutecG2I5lBDdRvwTpEnEHqF6q/2htBQbIrgL+T9DxBrttavmzmOkEVEiq+re0zQZRN/b6gSD5B8OnqvqPEIEEAQ7O+AmwsQX43nb/+ji9BNmpEv8OxL0H8Khk+wGU1QafDw7zATzVB5g2Bv7ZyPUFwtW+/CzkfQUxRob8MQDxBm/DUvy/cPkFpSKu/1tg+QQa8y79ugT1BaUazPeWkOUGpoKC/0fgwQfuFv7+BsDBByI3KPSRlNkENvUa+HBAuQQF9pL/27T5Bni8lv7oiLUFTYIE+SxQ2QaDy88B2JYdBBsD0wI+TiEFVk/XAmRl9QVmJ98A6GopBAlAKwVjjfkFWt9rAYGB+QTK4zcCf63hBHH7TwO6MeUE8AtLASr17QVhr58DKc4lB89LdwLnVeUFgEejAmHN9QTgd78DUYIdB2sH2wHs9iEG6kvPAKCOIQZQJAcHXuIlBttYFwUrTaEE+iQDBkmOHQSTP88CvfIdBCQ/nwIvziUHHSPDAZqd8QVfRA8HL8oZB+ObuwAzjaEGuWdnAJap9QSjg6sCrdHhBXnFbwYc8f0HfwF3BLg1yQarwSMEdPphBcg9NwahNlEGnXUHBCCmYQfm4UcERUn5Bvj1WwQYXjUH5d0rBwROUQYXvUMG96X1Bfg1LwZI3mEHxLlrBX7t9QeDqTMELypNBxwRDwVlhmEEON0TBBZaTQYrIOsGi+pNBtxNWwVIWf0GLJ1DBwqd+QRlfQ8H8h5NBtyFNwajNk0FKd1nBHsxxQe56TcHq635Baj5Fwdk9lEFXTU7BxsZ+QXAAVMHcAXFBPPA/wa0+mEE=",
          "dtype": "f4"
         },
         "y": {
          "bdata": "v84Vwc37hz+1rCHBsn+4PxwfFcGBjFJASU0RwQJaPUButyLBOH2CP5+GJsHAOI4/CVIiwcRaiT8plxzB0AJQQElmI8FVPrk/nAoWwcOEPkCEtinBjnelPwINGsE51kJAfcIYwQgkUkBo+yrBGYewP518KsFw5b4/UDEcwa6fQEDPJR/BxoSlP6mkDsHnmkZAjP4dwT7zwz+rchnBgDVCQK5BGcEjKD5AYrQQwV+fT0A11RzB4P1MQIBvKcEfcbg/XCElwRBAqz+Qa+m/dYGPQPzi3L+vI4xATYuov1qJqUAwRhDAjViXQFy1GMDcPpdAEGqJv4PmnUBaaV6/hRSDQKHkj7+aEHtANGXsv7r8d0Ab2sG/7bWWQGvJmb8gTqlAgf/SvycXh0DX0xS/+oKTQPEStr/U/4hAbyPqvxRXnUCRpBHAk6OeQDw9jr8qpoZAQ6RSvwv4qEBdGrS/zMtvQC52sL+R1ndAExy/vxPOpUChdrO/7XmGQLbe+L+rvIlAhgtcv6hmg0CIYQ3Ann+nQBiMi8CeLz5B/iaLwH0KRUHFzKrAhr5OQX5Ii8Dp4ENBAAGkwPKHUEEvXbDAw2dQQRxImMDTuE1BdlmPwE+cS0EF4XLAUBxSQblTicBmvT9B846XwOmoTEF+7JvAYmhPQaF5jsCzVD5BsOJ5wEkQREHJEI3AnxhEQRHGn8Au3EFBy9qswLqBDEF9snjAHEc/QVrNccCfFj5BOv5qwEULQkFCB7XAx39NQYzkicBjuT5BsLqswHCaDEGaQpPAj7lSQVd/pMB8RkxBx1sSwGq42ECYjw3AqWfbQA6+PMDt0uRAeCt2wF7S3kDZamzAOjPlQDP17L9+BdhAs5U/wBVT30DC0EDA/WDeQFIRMsA+YNhA3dFEwLd75UDrSkfAnhPZQJQMUcBiBeBAXhY+wESb5UBhTkTAbOPgQFjmJ8C+Zd9AKxs0wM+610ChxB7AkVPZQF6LGcCZIOJASsZhwG5n30BZw07AId3bQCfADsAQ+9hAIbhWwHXh3kAt7Q7AdvrXQD47GcC4DtxA1Ls6wARQ5kA=",
          "dtype": "f4"
         }
        }
       ],
       "layout": {
        "height": 600,
        "margin": {
         "b": 10,
         "l": 10,
         "r": 20,
         "t": 40
        },
        "scene": {
         "xaxis": {
          "title": {
           "text": "x"
          }
         },
         "yaxis": {
          "title": {
           "text": "y"
          }
         }
        },
        "template": {
         "data": {
          "bar": [
           {
            "error_x": {
             "color": "#2a3f5f"
            },
            "error_y": {
             "color": "#2a3f5f"
            },
            "marker": {
             "line": {
              "color": "#E5ECF6",
              "width": 0.5
             },
             "pattern": {
              "fillmode": "overlay",
              "size": 10,
              "solidity": 0.2
             }
            },
            "type": "bar"
           }
          ],
          "barpolar": [
           {
            "marker": {
             "line": {
              "color": "#E5ECF6",
              "width": 0.5
             },
             "pattern": {
              "fillmode": "overlay",
              "size": 10,
              "solidity": 0.2
             }
            },
            "type": "barpolar"
           }
          ],
          "carpet": [
           {
            "aaxis": {
             "endlinecolor": "#2a3f5f",
             "gridcolor": "white",
             "linecolor": "white",
             "minorgridcolor": "white",
             "startlinecolor": "#2a3f5f"
            },
            "baxis": {
             "endlinecolor": "#2a3f5f",
             "gridcolor": "white",
             "linecolor": "white",
             "minorgridcolor": "white",
             "startlinecolor": "#2a3f5f"
            },
            "type": "carpet"
           }
          ],
          "choropleth": [
           {
            "colorbar": {
             "outlinewidth": 0,
             "ticks": ""
            },
            "type": "choropleth"
           }
          ],
          "contour": [
           {
            "colorbar": {
             "outlinewidth": 0,
             "ticks": ""
            },
            "colorscale": [
             [
              0,
              "#0d0887"
             ],
             [
              0.1111111111111111,
              "#46039f"
             ],
             [
              0.2222222222222222,
              "#7201a8"
             ],
             [
              0.3333333333333333,
              "#9c179e"
             ],
             [
              0.4444444444444444,
              "#bd3786"
             ],
             [
              0.5555555555555556,
              "#d8576b"
             ],
             [
              0.6666666666666666,
              "#ed7953"
             ],
             [
              0.7777777777777778,
              "#fb9f3a"
             ],
             [
              0.8888888888888888,
              "#fdca26"
             ],
             [
              1,
              "#f0f921"
             ]
            ],
            "type": "contour"
           }
          ],
          "contourcarpet": [
           {
            "colorbar": {
             "outlinewidth": 0,
             "ticks": ""
            },
            "type": "contourcarpet"
           }
          ],
          "heatmap": [
           {
            "colorbar": {
             "outlinewidth": 0,
             "ticks": ""
            },
            "colorscale": [
             [
              0,
              "#0d0887"
             ],
             [
              0.1111111111111111,
              "#46039f"
             ],
             [
              0.2222222222222222,
              "#7201a8"
             ],
             [
              0.3333333333333333,
              "#9c179e"
             ],
             [
              0.4444444444444444,
              "#bd3786"
             ],
             [
              0.5555555555555556,
              "#d8576b"
             ],
             [
              0.6666666666666666,
              "#ed7953"
             ],
             [
              0.7777777777777778,
              "#fb9f3a"
             ],
             [
              0.8888888888888888,
              "#fdca26"
             ],
             [
              1,
              "#f0f921"
             ]
            ],
            "type": "heatmap"
           }
          ],
          "histogram": [
           {
            "marker": {
             "pattern": {
              "fillmode": "overlay",
              "size": 10,
              "solidity": 0.2
             }
            },
            "type": "histogram"
           }
          ],
          "histogram2d": [
           {
            "colorbar": {
             "outlinewidth": 0,
             "ticks": ""
            },
            "colorscale": [
             [
              0,
              "#0d0887"
             ],
             [
              0.1111111111111111,
              "#46039f"
             ],
             [
              0.2222222222222222,
              "#7201a8"
             ],
             [
              0.3333333333333333,
              "#9c179e"
             ],
             [
              0.4444444444444444,
              "#bd3786"
             ],
             [
              0.5555555555555556,
              "#d8576b"
             ],
             [
              0.6666666666666666,
              "#ed7953"
             ],
             [
              0.7777777777777778,
              "#fb9f3a"
             ],
             [
              0.8888888888888888,
              "#fdca26"
             ],
             [
              1,
              "#f0f921"
             ]
            ],
            "type": "histogram2d"
           }
          ],
          "histogram2dcontour": [
           {
            "colorbar": {
             "outlinewidth": 0,
             "ticks": ""
            },
            "colorscale": [
             [
              0,
              "#0d0887"
             ],
             [
              0.1111111111111111,
              "#46039f"
             ],
             [
              0.2222222222222222,
              "#7201a8"
             ],
             [
              0.3333333333333333,
              "#9c179e"
             ],
             [
              0.4444444444444444,
              "#bd3786"
             ],
             [
              0.5555555555555556,
              "#d8576b"
             ],
             [
              0.6666666666666666,
              "#ed7953"
             ],
             [
              0.7777777777777778,
              "#fb9f3a"
             ],
             [
              0.8888888888888888,
              "#fdca26"
             ],
             [
              1,
              "#f0f921"
             ]
            ],
            "type": "histogram2dcontour"
           }
          ],
          "mesh3d": [
           {
            "colorbar": {
             "outlinewidth": 0,
             "ticks": ""
            },
            "type": "mesh3d"
           }
          ],
          "parcoords": [
           {
            "line": {
             "colorbar": {
              "outlinewidth": 0,
              "ticks": ""
             }
            },
            "type": "parcoords"
           }
          ],
          "pie": [
           {
            "automargin": true,
            "type": "pie"
           }
          ],
          "scatter": [
           {
            "fillpattern": {
             "fillmode": "overlay",
             "size": 10,
             "solidity": 0.2
            },
            "type": "scatter"
           }
          ],
          "scatter3d": [
           {
            "line": {
             "colorbar": {
              "outlinewidth": 0,
              "ticks": ""
             }
            },
            "marker": {
             "colorbar": {
              "outlinewidth": 0,
              "ticks": ""
             }
            },
            "type": "scatter3d"
           }
          ],
          "scattercarpet": [
           {
            "marker": {
             "colorbar": {
              "outlinewidth": 0,
              "ticks": ""
             }
            },
            "type": "scattercarpet"
           }
          ],
          "scattergeo": [
           {
            "marker": {
             "colorbar": {
              "outlinewidth": 0,
              "ticks": ""
             }
            },
            "type": "scattergeo"
           }
          ],
          "scattergl": [
           {
            "marker": {
             "colorbar": {
              "outlinewidth": 0,
              "ticks": ""
             }
            },
            "type": "scattergl"
           }
          ],
          "scattermap": [
           {
            "marker": {
             "colorbar": {
              "outlinewidth": 0,
              "ticks": ""
             }
            },
            "type": "scattermap"
           }
          ],
          "scattermapbox": [
           {
            "marker": {
             "colorbar": {
              "outlinewidth": 0,
              "ticks": ""
             }
            },
            "type": "scattermapbox"
           }
          ],
          "scatterpolar": [
           {
            "marker": {
             "colorbar": {
              "outlinewidth": 0,
              "ticks": ""
             }
            },
            "type": "scatterpolar"
           }
          ],
          "scatterpolargl": [
           {
            "marker": {
             "colorbar": {
              "outlinewidth": 0,
              "ticks": ""
             }
            },
            "type": "scatterpolargl"
           }
          ],
          "scatterternary": [
           {
            "marker": {
             "colorbar": {
              "outlinewidth": 0,
              "ticks": ""
             }
            },
            "type": "scatterternary"
           }
          ],
          "surface": [
           {
            "colorbar": {
             "outlinewidth": 0,
             "ticks": ""
            },
            "colorscale": [
             [
              0,
              "#0d0887"
             ],
             [
              0.1111111111111111,
              "#46039f"
             ],
             [
              0.2222222222222222,
              "#7201a8"
             ],
             [
              0.3333333333333333,
              "#9c179e"
             ],
             [
              0.4444444444444444,
              "#bd3786"
             ],
             [
              0.5555555555555556,
              "#d8576b"
             ],
             [
              0.6666666666666666,
              "#ed7953"
             ],
             [
              0.7777777777777778,
              "#fb9f3a"
             ],
             [
              0.8888888888888888,
              "#fdca26"
             ],
             [
              1,
              "#f0f921"
             ]
            ],
            "type": "surface"
           }
          ],
          "table": [
           {
            "cells": {
             "fill": {
              "color": "#EBF0F8"
             },
             "line": {
              "color": "white"
             }
            },
            "header": {
             "fill": {
              "color": "#C8D4E3"
             },
             "line": {
              "color": "white"
             }
            },
            "type": "table"
           }
          ]
         },
         "layout": {
          "annotationdefaults": {
           "arrowcolor": "#2a3f5f",
           "arrowhead": 0,
           "arrowwidth": 1
          },
          "autotypenumbers": "strict",
          "coloraxis": {
           "colorbar": {
            "outlinewidth": 0,
            "ticks": ""
           }
          },
          "colorscale": {
           "diverging": [
            [
             0,
             "#8e0152"
            ],
            [
             0.1,
             "#c51b7d"
            ],
            [
             0.2,
             "#de77ae"
            ],
            [
             0.3,
             "#f1b6da"
            ],
            [
             0.4,
             "#fde0ef"
            ],
            [
             0.5,
             "#f7f7f7"
            ],
            [
             0.6,
             "#e6f5d0"
            ],
            [
             0.7,
             "#b8e186"
            ],
            [
             0.8,
             "#7fbc41"
            ],
            [
             0.9,
             "#4d9221"
            ],
            [
             1,
             "#276419"
            ]
           ],
           "sequential": [
            [
             0,
             "#0d0887"
            ],
            [
             0.1111111111111111,
             "#46039f"
            ],
            [
             0.2222222222222222,
             "#7201a8"
            ],
            [
             0.3333333333333333,
             "#9c179e"
            ],
            [
             0.4444444444444444,
             "#bd3786"
            ],
            [
             0.5555555555555556,
             "#d8576b"
            ],
            [
             0.6666666666666666,
             "#ed7953"
            ],
            [
             0.7777777777777778,
             "#fb9f3a"
            ],
            [
             0.8888888888888888,
             "#fdca26"
            ],
            [
             1,
             "#f0f921"
            ]
           ],
           "sequentialminus": [
            [
             0,
             "#0d0887"
            ],
            [
             0.1111111111111111,
             "#46039f"
            ],
            [
             0.2222222222222222,
             "#7201a8"
            ],
            [
             0.3333333333333333,
             "#9c179e"
            ],
            [
             0.4444444444444444,
             "#bd3786"
            ],
            [
             0.5555555555555556,
             "#d8576b"
            ],
            [
             0.6666666666666666,
             "#ed7953"
            ],
            [
             0.7777777777777778,
             "#fb9f3a"
            ],
            [
             0.8888888888888888,
             "#fdca26"
            ],
            [
             1,
             "#f0f921"
            ]
           ]
          },
          "colorway": [
           "#636efa",
           "#EF553B",
           "#00cc96",
           "#ab63fa",
           "#FFA15A",
           "#19d3f3",
           "#FF6692",
           "#B6E880",
           "#FF97FF",
           "#FECB52"
          ],
          "font": {
           "color": "#2a3f5f"
          },
          "geo": {
           "bgcolor": "white",
           "lakecolor": "white",
           "landcolor": "#E5ECF6",
           "showlakes": true,
           "showland": true,
           "subunitcolor": "white"
          },
          "hoverlabel": {
           "align": "left"
          },
          "hovermode": "closest",
          "mapbox": {
           "style": "light"
          },
          "paper_bgcolor": "white",
          "plot_bgcolor": "#E5ECF6",
          "polar": {
           "angularaxis": {
            "gridcolor": "white",
            "linecolor": "white",
            "ticks": ""
           },
           "bgcolor": "#E5ECF6",
           "radialaxis": {
            "gridcolor": "white",
            "linecolor": "white",
            "ticks": ""
           }
          },
          "scene": {
           "xaxis": {
            "backgroundcolor": "#E5ECF6",
            "gridcolor": "white",
            "gridwidth": 2,
            "linecolor": "white",
            "showbackground": true,
            "ticks": "",
            "zerolinecolor": "white"
           },
           "yaxis": {
            "backgroundcolor": "#E5ECF6",
            "gridcolor": "white",
            "gridwidth": 2,
            "linecolor": "white",
            "showbackground": true,
            "ticks": "",
            "zerolinecolor": "white"
           },
           "zaxis": {
            "backgroundcolor": "#E5ECF6",
            "gridcolor": "white",
            "gridwidth": 2,
            "linecolor": "white",
            "showbackground": true,
            "ticks": "",
            "zerolinecolor": "white"
           }
          },
          "shapedefaults": {
           "line": {
            "color": "#2a3f5f"
           }
          },
          "ternary": {
           "aaxis": {
            "gridcolor": "white",
            "linecolor": "white",
            "ticks": ""
           },
           "baxis": {
            "gridcolor": "white",
            "linecolor": "white",
            "ticks": ""
           },
           "bgcolor": "#E5ECF6",
           "caxis": {
            "gridcolor": "white",
            "linecolor": "white",
            "ticks": ""
           }
          },
          "title": {
           "x": 0.05
          },
          "xaxis": {
           "automargin": true,
           "gridcolor": "white",
           "linecolor": "white",
           "ticks": "",
           "title": {
            "standoff": 15
           },
           "zerolinecolor": "white",
           "zerolinewidth": 2
          },
          "yaxis": {
           "automargin": true,
           "gridcolor": "white",
           "linecolor": "white",
           "ticks": "",
           "title": {
            "standoff": 15
           },
           "zerolinecolor": "white",
           "zerolinewidth": 2
          }
         }
        },
        "title": {
         "text": "2D Chroma Vector Store Visualization"
        },
        "width": 800
       }
      }
     },
     "metadata": {},
     "output_type": "display_data"
    }
   ],
   "source": [
    "\n",
    "from sklearn.manifold import TSNE\n",
    "import plotly.graph_objects as go\n",
    "\n",
    "tsne = TSNE(n_components=2, random_state=42)\n",
    "reduced_vectors = tsne.fit_transform(vectors)\n",
    "\n",
    "# Create the 2D scatter plot\n",
    "fig = go.Figure(data=[go.Scatter(\n",
    "    x=reduced_vectors[:, 0],\n",
    "    y=reduced_vectors[:, 1],\n",
    "    mode='markers',\n",
    "    marker=dict(size=5, color=colors, opacity=0.8),\n",
    "    text=[f\"Type: {t}<br>Text: {d[:100]}...\" for t, d in zip(doc_types, documents)],\n",
    "    hoverinfo='text'\n",
    ")])\n",
    "\n",
    "fig.update_layout(\n",
    "    title='2D Chroma Vector Store Visualization',\n",
    "    scene=dict(xaxis_title='x',yaxis_title='y'),\n",
    "    width=800,\n",
    "    height=600,\n",
    "    margin=dict(r=20, b=10, l=10, t=40)\n",
    ")\n",
    "\n",
    "fig.show()"
   ]
  },
  {
   "cell_type": "code",
   "execution_count": 12,
   "id": "204192c9",
   "metadata": {},
   "outputs": [
    {
     "data": {
      "application/vnd.plotly.v1+json": {
       "config": {
        "plotlyServerURL": "https://plot.ly"
       },
       "data": [
        {
         "hoverinfo": "text",
         "marker": {
          "color": [
           "blue",
           "blue",
           "blue",
           "blue",
           "blue",
           "blue",
           "blue",
           "blue",
           "blue",
           "blue",
           "blue",
           "blue",
           "blue",
           "blue",
           "blue",
           "blue",
           "blue",
           "blue",
           "blue",
           "blue",
           "blue",
           "blue",
           "blue",
           "blue",
           "blue",
           "blue",
           "blue",
           "blue",
           "blue",
           "blue",
           "blue",
           "blue",
           "blue",
           "blue",
           "blue",
           "blue",
           "blue",
           "blue",
           "blue",
           "blue",
           "blue",
           "blue",
           "blue",
           "blue",
           "blue",
           "blue",
           "blue",
           "blue",
           "blue",
           "blue",
           "green",
           "green",
           "green",
           "green",
           "green",
           "green",
           "green",
           "green",
           "green",
           "green",
           "green",
           "green",
           "green",
           "green",
           "green",
           "green",
           "green",
           "green",
           "green",
           "green",
           "green",
           "green",
           "green",
           "green",
           "green",
           "green",
           "green",
           "green",
           "green",
           "green",
           "green",
           "green",
           "green",
           "green",
           "green",
           "green",
           "green",
           "green",
           "green",
           "green",
           "green",
           "green",
           "green",
           "green",
           "green",
           "green",
           "green",
           "green",
           "green",
           "green",
           "red",
           "red",
           "red",
           "red",
           "red",
           "red",
           "red",
           "red",
           "red",
           "red",
           "red",
           "red",
           "red",
           "red",
           "red",
           "red",
           "red",
           "red",
           "red",
           "red",
           "red",
           "red",
           "red",
           "red",
           "red",
           "red",
           "red",
           "red",
           "red",
           "red",
           "red",
           "red",
           "red",
           "red",
           "red",
           "red",
           "red",
           "red",
           "red",
           "red",
           "red",
           "red",
           "red",
           "red",
           "red",
           "red",
           "red",
           "red",
           "red",
           "red",
           "orange",
           "orange",
           "orange",
           "orange",
           "orange",
           "orange",
           "orange",
           "orange",
           "orange",
           "orange",
           "orange",
           "orange",
           "orange",
           "orange",
           "orange",
           "orange",
           "orange",
           "orange",
           "orange",
           "orange",
           "orange",
           "orange",
           "orange",
           "orange",
           "orange",
           "orange",
           "orange",
           "orange",
           "orange",
           "orange",
           "orange",
           "orange",
           "orange",
           "orange",
           "orange",
           "orange",
           "orange",
           "orange",
           "orange",
           "orange",
           "orange",
           "orange",
           "orange",
           "orange",
           "orange",
           "orange",
           "orange",
           "orange",
           "orange",
           "orange"
          ],
          "opacity": 0.8,
          "size": 5
         },
         "mode": "markers",
         "text": [
          "Type: ./catalog_docs\\headphones-airpods-pro-2.md<br>Text: AirPods Pro 2\n\nCategory: headphones SKU: HEA-BW5L8WZQ Release Year: 2023 Price (USD): $486.9\n\nSummar...",
          "Type: ./catalog_docs\\headphones-airpods-pro-2.md<br>Text: Ear tips\n\nCarrying case\n\nAdditional Details\n\nDimensions: 17.3 x 12.7 x 1.1 cm\n\nWeight: 1.77 kg\n\nWarr...",
          "Type: ./catalog_docs\\headphones-akg-n700nc-m3.md<br>Text: AKG N700NC M3\n\nCategory: headphones SKU: HEA-U0IN8BE2 Release Year: 2022 Price (USD): $370.81\n\nSumma...",
          "Type: ./catalog_docs\\headphones-akg-n700nc-m3.md<br>Text: Ear tips\n\nCarrying case\n\nAdditional Details\n\nDimensions: 7.1 x 25.1 x 2.0 cm\n\nWeight: 0.48 kg\n\nWarra...",
          "Type: ./catalog_docs\\headphones-anker-soundcore-space-one.txt<br>Text: Product Name: Anker Soundcore Space One\nCategory: headphones\nSKU: HEA-SG69LGVV\nRelease Year: 2022\nPr...",
          "Type: ./catalog_docs\\headphones-anker-soundcore-space-one.txt<br>Text: In the Box:\n- Headphones/Earbuds\n- Charging cable\n- Ear tips\n- Carrying case\n\nAdditional Details:\n- ...",
          "Type: ./catalog_docs\\headphones-apple-airpods-max.txt<br>Text: Product Name: Apple AirPods Max\nCategory: headphones\nSKU: HEA-JFAYANHG\nRelease Year: 2024\nPrice (USD...",
          "Type: ./catalog_docs\\headphones-apple-airpods-max.txt<br>Text: In the Box:\n- Headphones/Earbuds\n- Charging cable\n- Ear tips\n- Carrying case\n\nAdditional Details:\n- ...",
          "Type: ./catalog_docs\\headphones-audio-technica-ath-m50xbt2.md<br>Text: Audio-Technica ATH-M50xBT2\n\nCategory: headphones SKU: HEA-WR97G0JY Release Year: 2025 Price (USD): $...",
          "Type: ./catalog_docs\\headphones-audio-technica-ath-m50xbt2.md<br>Text: Ear tips\n\nCarrying case\n\nAdditional Details\n\nDimensions: 12.0 x 11.6 x 19.2 cm\n\nWeight: 1.71 kg\n\nWar...",
          "Type: ./catalog_docs\\headphones-bang-and-olufsen-h95.md<br>Text: Bang & Olufsen H95\n\nCategory: headphones SKU: HEA-NZ0ZWIZ6 Release Year: 2024 Price (USD): $849.09\n\n...",
          "Type: ./catalog_docs\\headphones-bang-and-olufsen-h95.md<br>Text: Ear tips\n\nCarrying case\n\nAdditional Details\n\nDimensions: 18.2 x 28.9 x 20.7 cm\n\nWeight: 0.94 kg\n\nWar...",
          "Type: ./catalog_docs\\headphones-beats-studio-pro.md<br>Text: Beats Studio Pro\n\nCategory: headphones SKU: HEA-TB4EV8KV Release Year: 2025 Price (USD): $706.1\n\nSum...",
          "Type: ./catalog_docs\\headphones-beats-studio-pro.md<br>Text: Ear tips\n\nCarrying case\n\nAdditional Details\n\nDimensions: 28.5 x 6.7 x 8.8 cm\n\nWeight: 1.47 kg\n\nWarra...",
          "Type: ./catalog_docs\\headphones-beyerdynamic-dt-900-pro-x.txt<br>Text: Product Name: Beyerdynamic DT 900 Pro X\nCategory: headphones\nSKU: HEA-0CN0FIY1\nRelease Year: 2022\nPr...",
          "Type: ./catalog_docs\\headphones-beyerdynamic-dt-900-pro-x.txt<br>Text: In the Box:\n- Headphones/Earbuds\n- Charging cable\n- Ear tips\n- Carrying case\n\nAdditional Details:\n- ...",
          "Type: ./catalog_docs\\headphones-bose-quietcomfort-ultra.md<br>Text: Bose QuietComfort Ultra\n\nCategory: headphones SKU: HEA-DMVGXWIH Release Year: 2022 Price (USD): $185...",
          "Type: ./catalog_docs\\headphones-bose-quietcomfort-ultra.md<br>Text: Ear tips\n\nCarrying case\n\nAdditional Details\n\nDimensions: 7.5 x 8.7 x 21.1 cm\n\nWeight: 2.65 kg\n\nWarra...",
          "Type: ./catalog_docs\\headphones-cambridge-melomania-m100.txt<br>Text: Product Name: Cambridge Melomania M100\nCategory: headphones\nSKU: HEA-E8EKLF72\nRelease Year: 2022\nPri...",
          "Type: ./catalog_docs\\headphones-cambridge-melomania-m100.txt<br>Text: In the Box:\n- Headphones/Earbuds\n- Charging cable\n- Ear tips\n- Carrying case\n\nAdditional Details:\n- ...",
          "Type: ./catalog_docs\\headphones-edifier-stax-spirit-s5.md<br>Text: Edifier Stax Spirit S5\n\nCategory: headphones SKU: HEA-WI57KYHQ Release Year: 2022 Price (USD): $556....",
          "Type: ./catalog_docs\\headphones-edifier-stax-spirit-s5.md<br>Text: Ear tips\n\nCarrying case\n\nAdditional Details\n\nDimensions: 26.4 x 16.5 x 17.1 cm\n\nWeight: 1.33 kg\n\nWar...",
          "Type: ./catalog_docs\\headphones-google-pixel-buds-pro-2.txt<br>Text: Product Name: Google Pixel Buds Pro 2\nCategory: headphones\nSKU: HEA-3O3P8XHB\nRelease Year: 2024\nPric...",
          "Type: ./catalog_docs\\headphones-google-pixel-buds-pro-2.txt<br>Text: In the Box:\n- Headphones/Earbuds\n- Charging cable\n- Ear tips\n- Carrying case\n\nAdditional Details:\n- ...",
          "Type: ./catalog_docs\\headphones-hyperx-cloud-alpha-wireless.txt<br>Text: Product Name: HyperX Cloud Alpha Wireless\nCategory: headphones\nSKU: HEA-G14X2N6I\nRelease Year: 2023\n...",
          "Type: ./catalog_docs\\headphones-hyperx-cloud-alpha-wireless.txt<br>Text: In the Box:\n- Headphones/Earbuds\n- Charging cable\n- Ear tips\n- Carrying case\n\nAdditional Details:\n- ...",
          "Type: ./catalog_docs\\headphones-jabra-elite-10.md<br>Text: Jabra Elite 10\n\nCategory: headphones SKU: HEA-B0W6IV5E Release Year: 2022 Price (USD): $649.79\n\nSumm...",
          "Type: ./catalog_docs\\headphones-jabra-elite-10.md<br>Text: Ear tips\n\nCarrying case\n\nAdditional Details\n\nDimensions: 23.0 x 26.9 x 23.4 cm\n\nWeight: 2.88 kg\n\nWar...",
          "Type: ./catalog_docs\\headphones-marshall-major-v.md<br>Text: Marshall Major V\n\nCategory: headphones SKU: HEA-ZPWZF7RY Release Year: 2024 Price (USD): $226.13\n\nSu...",
          "Type: ./catalog_docs\\headphones-marshall-major-v.md<br>Text: Ear tips\n\nCarrying case\n\nAdditional Details\n\nDimensions: 3.8 x 4.4 x 8.7 cm\n\nWeight: 1.63 kg\n\nWarran...",
          "Type: ./catalog_docs\\headphones-nothing-ear-2.txt<br>Text: Product Name: Nothing Ear (2)\nCategory: headphones\nSKU: HEA-EW0U4O55\nRelease Year: 2023\nPrice (USD):...",
          "Type: ./catalog_docs\\headphones-nothing-ear-2.txt<br>Text: In the Box:\n- Headphones/Earbuds\n- Charging cable\n- Ear tips\n- Carrying case\n\nAdditional Details:\n- ...",
          "Type: ./catalog_docs\\headphones-oneplus-buds-3-pro.md<br>Text: OnePlus Buds 3 Pro\n\nCategory: headphones SKU: HEA-7KCSRHWP Release Year: 2024 Price (USD): $221.36\n\n...",
          "Type: ./catalog_docs\\headphones-oneplus-buds-3-pro.md<br>Text: Ear tips\n\nCarrying case\n\nAdditional Details\n\nDimensions: 27.6 x 29.5 x 14.4 cm\n\nWeight: 2.68 kg\n\nWar...",
          "Type: ./catalog_docs\\headphones-razer-blackshark-v3-pro.txt<br>Text: Product Name: Razer BlackShark V3 Pro\nCategory: headphones\nSKU: HEA-M8MR2PR3\nRelease Year: 2023\nPric...",
          "Type: ./catalog_docs\\headphones-razer-blackshark-v3-pro.txt<br>Text: In the Box:\n- Headphones/Earbuds\n- Charging cable\n- Ear tips\n- Carrying case\n\nAdditional Details:\n- ...",
          "Type: ./catalog_docs\\headphones-samsung-galaxy-buds3-pro.md<br>Text: Samsung Galaxy Buds3 Pro\n\nCategory: headphones SKU: HEA-PKXMHCSP Release Year: 2024 Price (USD): $10...",
          "Type: ./catalog_docs\\headphones-samsung-galaxy-buds3-pro.md<br>Text: Charging cable\n\nEar tips\n\nCarrying case\n\nAdditional Details\n\nDimensions: 10.5 x 5.0 x 7.4 cm\n\nWeight...",
          "Type: ./catalog_docs\\headphones-sennheiser-momentum-5.txt<br>Text: Product Name: Sennheiser Momentum 5\nCategory: headphones\nSKU: HEA-MZSYTEIJ\nRelease Year: 2022\nPrice ...",
          "Type: ./catalog_docs\\headphones-sennheiser-momentum-5.txt<br>Text: In the Box:\n- Headphones/Earbuds\n- Charging cable\n- Ear tips\n- Carrying case\n\nAdditional Details:\n- ...",
          "Type: ./catalog_docs\\headphones-shure-aonic-50-gen-2.txt<br>Text: Product Name: Shure Aonic 50 Gen 2\nCategory: headphones\nSKU: HEA-TD83T9KB\nRelease Year: 2024\nPrice (...",
          "Type: ./catalog_docs\\headphones-shure-aonic-50-gen-2.txt<br>Text: In the Box:\n- Headphones/Earbuds\n- Charging cable\n- Ear tips\n- Carrying case\n\nAdditional Details:\n- ...",
          "Type: ./catalog_docs\\headphones-skullcandy-crusher-evo-2.txt<br>Text: Product Name: Skullcandy Crusher Evo 2\nCategory: headphones\nSKU: HEA-44XMAP6X\nRelease Year: 2024\nPri...",
          "Type: ./catalog_docs\\headphones-skullcandy-crusher-evo-2.txt<br>Text: In the Box:\n- Headphones/Earbuds\n- Charging cable\n- Ear tips\n- Carrying case\n\nAdditional Details:\n- ...",
          "Type: ./catalog_docs\\headphones-sony-wh-1000xm6.txt<br>Text: Product Name: Sony WH-1000XM6\nCategory: headphones\nSKU: HEA-RVALZFR2\nRelease Year: 2023\nPrice (USD):...",
          "Type: ./catalog_docs\\headphones-sony-wh-1000xm6.txt<br>Text: In the Box:\n- Headphones/Earbuds\n- Charging cable\n- Ear tips\n- Carrying case\n\nAdditional Details:\n- ...",
          "Type: ./catalog_docs\\headphones-steelseries-arctis-nova-7.md<br>Text: SteelSeries Arctis Nova 7\n\nCategory: headphones SKU: HEA-A7QP6J6E Release Year: 2024 Price (USD): $5...",
          "Type: ./catalog_docs\\headphones-steelseries-arctis-nova-7.md<br>Text: Ear tips\n\nCarrying case\n\nAdditional Details\n\nDimensions: 23.3 x 3.0 x 15.4 cm\n\nWeight: 3.06 kg\n\nWarr...",
          "Type: ./catalog_docs\\headphones-technics-eah-az80.md<br>Text: Technics EAH-AZ80\n\nCategory: headphones SKU: HEA-OZX81AMQ Release Year: 2023 Price (USD): $624.5\n\nSu...",
          "Type: ./catalog_docs\\headphones-technics-eah-az80.md<br>Text: Ear tips\n\nCarrying case\n\nAdditional Details\n\nDimensions: 10.8 x 10.2 x 5.4 cm\n\nWeight: 2.81 kg\n\nWarr...",
          "Type: ./catalog_docs\\laptops-acer-predator-helios-neo-16.txt<br>Text: Product Name: Acer Predator Helios Neo 16\nCategory: laptops\nSKU: LAP-RP67ZTSS\nRelease Year: 2023\nPri...",
          "Type: ./catalog_docs\\laptops-acer-predator-helios-neo-16.txt<br>Text: Additional Details:\n- Dimensions: 28.5 x 20.6 x 7.6 cm\n- Weight: 3.33 kg\n- Warranty: 6 months\n- Tags...",
          "Type: ./catalog_docs\\laptops-acer-swift-x-14.txt<br>Text: Product Name: Acer Swift X 14\nCategory: laptops\nSKU: LAP-7DM77UYH\nRelease Year: 2025\nPrice (USD): $5...",
          "Type: ./catalog_docs\\laptops-acer-swift-x-14.txt<br>Text: Additional Details:\n- Dimensions: 25.5 x 16.6 x 22.9 cm\n- Weight: 0.2 kg\n- Warranty: 1 year\n- Tags: ...",
          "Type: ./catalog_docs\\laptops-alienware-m16-r2.md<br>Text: Alienware m16 R2\n\nCategory: laptops SKU: LAP-IIHTDCH9 Release Year: 2024 Price (USD): $1567.43\n\nSumm...",
          "Type: ./catalog_docs\\laptops-alienware-m16-r2.md<br>Text: Dimensions: 27.1 x 6.4 x 8.4 cm\n\nWeight: 3.4 kg\n\nWarranty: 6 months\n\nTags: laptop, gaming, Wi‑Fi 6E\n...",
          "Type: ./catalog_docs\\laptops-apple-macbook-air-m3.md<br>Text: Apple MacBook Air M3\n\nCategory: laptops SKU: LAP-6IC9A4ZY Release Year: 2025 Price (USD): $1254.78\n\n...",
          "Type: ./catalog_docs\\laptops-apple-macbook-air-m3.md<br>Text: Dimensions: 3.3 x 4.1 x 13.0 cm\n\nWeight: 3.41 kg\n\nWarranty: 2 years\n\nTags: laptop, creator, Wi‑Fi 6E...",
          "Type: ./catalog_docs\\laptops-apple-macbook-pro-14-m4.txt<br>Text: Product Name: Apple MacBook Pro 14 M4\nCategory: laptops\nSKU: LAP-6C9UHQMH\nRelease Year: 2023\nPrice (...",
          "Type: ./catalog_docs\\laptops-apple-macbook-pro-14-m4.txt<br>Text: Additional Details:\n- Dimensions: 18.8 x 10.0 x 15.0 cm\n- Weight: 2.43 kg\n- Warranty: 1 year\n- Tags:...",
          "Type: ./catalog_docs\\laptops-asus-rog-zephyrus-g16.md<br>Text: Asus ROG Zephyrus G16\n\nCategory: laptops SKU: LAP-O82EJH0W Release Year: 2024 Price (USD): $2403.34\n...",
          "Type: ./catalog_docs\\laptops-asus-rog-zephyrus-g16.md<br>Text: Weight: 3.47 kg\n\nWarranty: 1 year\n\nTags: laptop, gaming, Wi‑Fi 6E\n\nGenerated On: 2025-08-21T14:14:15...",
          "Type: ./catalog_docs\\laptops-asus-tuf-a15.md<br>Text: Asus TUF A15\n\nCategory: laptops SKU: LAP-NNO18FIR Release Year: 2022 Price (USD): $2975.79\n\nSummary\n...",
          "Type: ./catalog_docs\\laptops-asus-tuf-a15.md<br>Text: Dimensions: 38.4 x 3.1 x 2.9 cm\n\nWeight: 1.17 kg\n\nWarranty: 3 years\n\nTags: laptop, ultrabook, Wi‑Fi ...",
          "Type: ./catalog_docs\\laptops-asus-zenbook-s-13-oled.txt<br>Text: Product Name: Asus Zenbook S 13 OLED\nCategory: laptops\nSKU: LAP-Y5YGHRCO\nRelease Year: 2025\nPrice (U...",
          "Type: ./catalog_docs\\laptops-asus-zenbook-s-13-oled.txt<br>Text: Additional Details:\n- Dimensions: 3.0 x 23.3 x 2.4 cm\n- Weight: 2.46 kg\n- Warranty: 3 years\n- Tags: ...",
          "Type: ./catalog_docs\\laptops-dell-inspiron-14-2-in-1.txt<br>Text: Product Name: Dell Inspiron 14 2-in-1\nCategory: laptops\nSKU: LAP-4G4OHS4Z\nRelease Year: 2025\nPrice (...",
          "Type: ./catalog_docs\\laptops-dell-inspiron-14-2-in-1.txt<br>Text: Additional Details:\n- Dimensions: 34.3 x 21.5 x 17.3 cm\n- Weight: 1.35 kg\n- Warranty: 3 years\n- Tags...",
          "Type: ./catalog_docs\\laptops-dell-xps-15-9550.md<br>Text: Dell XPS 15 9550\n\nCategory: laptops SKU: LAP-IFJYAXY8 Release Year: 2023 Price (USD): $2590.21\n\nSumm...",
          "Type: ./catalog_docs\\laptops-dell-xps-15-9550.md<br>Text: Dimensions: 35.8 x 13.4 x 9.4 cm\n\nWeight: 1.04 kg\n\nWarranty: 18 months\n\nTags: laptop, creator, Wi‑Fi...",
          "Type: ./catalog_docs\\laptops-framework-laptop-13-amd.md<br>Text: Framework Laptop 13 (AMD)\n\nCategory: laptops SKU: LAP-2GKWKQDU Release Year: 2024 Price (USD): $3174...",
          "Type: ./catalog_docs\\laptops-framework-laptop-13-amd.md<br>Text: Dimensions: 7.7 x 11.1 x 1.2 cm\n\nWeight: 2.89 kg\n\nWarranty: 2 years\n\nTags: laptop, gaming, Wi‑Fi 6E\n...",
          "Type: ./catalog_docs\\laptops-gigabyte-aero-16.txt<br>Text: Product Name: Gigabyte Aero 16\nCategory: laptops\nSKU: LAP-R2U748QV\nRelease Year: 2023\nPrice (USD): $...",
          "Type: ./catalog_docs\\laptops-gigabyte-aero-16.txt<br>Text: Additional Details:\n- Dimensions: 9.2 x 14.0 x 12.9 cm\n- Weight: 0.31 kg\n- Warranty: 6 months\n- Tags...",
          "Type: ./catalog_docs\\laptops-hp-omen-16.md<br>Text: HP Omen 16\n\nCategory: laptops SKU: LAP-GEUJKW41 Release Year: 2024 Price (USD): $2456.45\n\nSummary\n\nP...",
          "Type: ./catalog_docs\\laptops-hp-omen-16.md<br>Text: Weight: 1.85 kg\n\nWarranty: 1 year\n\nTags: laptop, ultrabook, Wi‑Fi 6E\n\nGenerated On: 2025-08-21T14:14...",
          "Type: ./catalog_docs\\laptops-hp-spectre-x360-14.txt<br>Text: Product Name: HP Spectre x360 14\nCategory: laptops\nSKU: LAP-21VJ4H43\nRelease Year: 2024\nPrice (USD):...",
          "Type: ./catalog_docs\\laptops-hp-spectre-x360-14.txt<br>Text: Additional Details:\n- Dimensions: 12.9 x 8.4 x 2.7 cm\n- Weight: 1.83 kg\n- Warranty: 3 years\n- Tags: ...",
          "Type: ./catalog_docs\\laptops-huawei-matebook-x-pro-2024.txt<br>Text: Product Name: Huawei MateBook X Pro 2024\nCategory: laptops\nSKU: LAP-COJTHK62\nRelease Year: 2022\nPric...",
          "Type: ./catalog_docs\\laptops-huawei-matebook-x-pro-2024.txt<br>Text: Additional Details:\n- Dimensions: 28.5 x 5.2 x 13.3 cm\n- Weight: 2.98 kg\n- Warranty: 2 years\n- Tags:...",
          "Type: ./catalog_docs\\laptops-infinix-inbook-x3-pro.txt<br>Text: Product Name: Infinix InBook X3 Pro\nCategory: laptops\nSKU: LAP-HERI9PW2\nRelease Year: 2024\nPrice (US...",
          "Type: ./catalog_docs\\laptops-infinix-inbook-x3-pro.txt<br>Text: Additional Details:\n- Dimensions: 31.8 x 25.3 x 19.2 cm\n- Weight: 0.83 kg\n- Warranty: 3 years\n- Tags...",
          "Type: ./catalog_docs\\laptops-lenovo-legion-5-pro.txt<br>Text: Product Name: Lenovo Legion 5 Pro\nCategory: laptops\nSKU: LAP-775U2G55\nRelease Year: 2023\nPrice (USD)...",
          "Type: ./catalog_docs\\laptops-lenovo-legion-5-pro.txt<br>Text: Additional Details:\n- Dimensions: 15.2 x 9.4 x 2.5 cm\n- Weight: 2.56 kg\n- Warranty: 18 months\n- Tags...",
          "Type: ./catalog_docs\\laptops-lenovo-thinkpad-x1-carbon-gen-12.md<br>Text: Lenovo ThinkPad X1 Carbon Gen 12\n\nCategory: laptops SKU: LAP-5VJ1T0Q2 Release Year: 2025 Price (USD)...",
          "Type: ./catalog_docs\\laptops-lenovo-thinkpad-x1-carbon-gen-12.md<br>Text: Dimensions: 28.8 x 13.4 x 16.5 cm\n\nWeight: 3.05 kg\n\nWarranty: 18 months\n\nTags: laptop, gaming, Wi‑Fi...",
          "Type: ./catalog_docs\\laptops-lg-gram-17.txt<br>Text: Product Name: LG Gram 17\nCategory: laptops\nSKU: LAP-505J3PJW\nRelease Year: 2025\nPrice (USD): $1008.4...",
          "Type: ./catalog_docs\\laptops-lg-gram-17.txt<br>Text: Additional Details:\n- Dimensions: 17.2 x 15.0 x 20.1 cm\n- Weight: 0.81 kg\n- Warranty: 1 year\n- Tags:...",
          "Type: ./catalog_docs\\laptops-microsoft-surface-laptop-7.txt<br>Text: Product Name: Microsoft Surface Laptop 7\nCategory: laptops\nSKU: LAP-2I0NCSHJ\nRelease Year: 2022\nPric...",
          "Type: ./catalog_docs\\laptops-microsoft-surface-laptop-7.txt<br>Text: Additional Details:\n- Dimensions: 15.6 x 21.8 x 23.1 cm\n- Weight: 1.61 kg\n- Warranty: 18 months\n- Ta...",
          "Type: ./catalog_docs\\laptops-msi-katana-15.md<br>Text: MSI Katana 15\n\nCategory: laptops SKU: LAP-4J6T5YS5 Release Year: 2024 Price (USD): $3384.37\n\nSummary...",
          "Type: ./catalog_docs\\laptops-msi-katana-15.md<br>Text: Dimensions: 16.5 x 27.9 x 12.2 cm\n\nWeight: 1.54 kg\n\nWarranty: 1 year\n\nTags: laptop, gaming, Wi‑Fi 6E...",
          "Type: ./catalog_docs\\laptops-msi-stealth-14-studio.md<br>Text: MSI Stealth 14 Studio\n\nCategory: laptops SKU: LAP-J2CQHUCV Release Year: 2023 Price (USD): $3028.7\n\n...",
          "Type: ./catalog_docs\\laptops-msi-stealth-14-studio.md<br>Text: Dimensions: 28.2 x 17.0 x 2.2 cm\n\nWeight: 0.58 kg\n\nWarranty: 1 year\n\nTags: laptop, ultrabook, Wi‑Fi ...",
          "Type: ./catalog_docs\\laptops-razer-blade-16.txt<br>Text: Product Name: Razer Blade 16\nCategory: laptops\nSKU: LAP-4KJWJH07\nRelease Year: 2024\nPrice (USD): $56...",
          "Type: ./catalog_docs\\laptops-razer-blade-16.txt<br>Text: Additional Details:\n- Dimensions: 6.7 x 12.3 x 7.2 cm\n- Weight: 2.3 kg\n- Warranty: 18 months\n- Tags:...",
          "Type: ./catalog_docs\\laptops-realme-book-prime-2.md<br>Text: Realme Book Prime 2\n\nCategory: laptops SKU: LAP-VWY3NK1B Release Year: 2023 Price (USD): $3299.85\n\nS...",
          "Type: ./catalog_docs\\laptops-realme-book-prime-2.md<br>Text: Dimensions: 24.5 x 26.1 x 11.1 cm\n\nWeight: 1.17 kg\n\nWarranty: 18 months\n\nTags: laptop, ultrabook, Wi...",
          "Type: ./catalog_docs\\laptops-samsung-galaxy-book4-pro.md<br>Text: Samsung Galaxy Book4 Pro\n\nCategory: laptops SKU: LAP-G13XE1FS Release Year: 2024 Price (USD): $2978....",
          "Type: ./catalog_docs\\laptops-samsung-galaxy-book4-pro.md<br>Text: Dimensions: 22.1 x 3.3 x 11.8 cm\n\nWeight: 1.41 kg\n\nWarranty: 2 years\n\nTags: laptop, gaming, Wi‑Fi 6E...",
          "Type: ./catalog_docs\\smartphones-asus-rog-phone-9.txt<br>Text: Product Name: Asus ROG Phone 9\nCategory: smartphones\nSKU: SMA-SRXQ16X7\nRelease Year: 2023\nPrice (USD...",
          "Type: ./catalog_docs\\smartphones-asus-rog-phone-9.txt<br>Text: In the Box:\n- Phone\n- USB-C cable\n- SIM ejector\n- Quick start guide\n\nAdditional Details:\n- Dimension...",
          "Type: ./catalog_docs\\smartphones-fairphone-5-plus.txt<br>Text: Product Name: Fairphone 5+\nCategory: smartphones\nSKU: SMA-03MEJ632\nRelease Year: 2023\nPrice (USD): $...",
          "Type: ./catalog_docs\\smartphones-fairphone-5-plus.txt<br>Text: In the Box:\n- Phone\n- USB-C cable\n- SIM ejector\n- Quick start guide\n\nAdditional Details:\n- Dimension...",
          "Type: ./catalog_docs\\smartphones-google-pixel-9-pro.md<br>Text: Google Pixel 9 Pro\n\nCategory: smartphones SKU: SMA-LEX6S5NW Release Year: 2025 Price (USD): $1129.27...",
          "Type: ./catalog_docs\\smartphones-google-pixel-9-pro.md<br>Text: USB-C cable\n\nSIM ejector\n\nQuick start guide\n\nAdditional Details\n\nDimensions: 7.2 x 4.9 x 19.8 cm\n\nWe...",
          "Type: ./catalog_docs\\smartphones-hmd-skyline.txt<br>Text: Product Name: HMD Skyline\nCategory: smartphones\nSKU: SMA-Y81B62S6\nRelease Year: 2025\nPrice (USD): $1...",
          "Type: ./catalog_docs\\smartphones-hmd-skyline.txt<br>Text: In the Box:\n- Phone\n- USB-C cable\n- SIM ejector\n- Quick start guide\n\nAdditional Details:\n- Dimension...",
          "Type: ./catalog_docs\\smartphones-honor-magic-7-pro.md<br>Text: Honor Magic 7 Pro\n\nCategory: smartphones SKU: SMA-2E1BKM9S Release Year: 2024 Price (USD): $1010.98\n...",
          "Type: ./catalog_docs\\smartphones-honor-magic-7-pro.md<br>Text: USB-C cable\n\nSIM ejector\n\nQuick start guide\n\nAdditional Details\n\nDimensions: 3.3 x 8.7 x 12.5 cm\n\nWe...",
          "Type: ./catalog_docs\\smartphones-infinix-zero-40.md<br>Text: Infinix Zero 40\n\nCategory: smartphones SKU: SMA-NC4IAEGR Release Year: 2024 Price (USD): $1335.75\n\nS...",
          "Type: ./catalog_docs\\smartphones-infinix-zero-40.md<br>Text: USB-C cable\n\nSIM ejector\n\nQuick start guide\n\nAdditional Details\n\nDimensions: 12.3 x 27.1 x 12.4 cm\n\n...",
          "Type: ./catalog_docs\\smartphones-iphone-16-pro.md<br>Text: iPhone 16 Pro\n\nCategory: smartphones SKU: SMA-A6H8M8AV Release Year: 2024 Price (USD): $394.39\n\nSumm...",
          "Type: ./catalog_docs\\smartphones-iphone-16-pro.md<br>Text: USB-C cable\n\nSIM ejector\n\nQuick start guide\n\nAdditional Details\n\nDimensions: 29.3 x 5.3 x 16.7 cm\n\nW...",
          "Type: ./catalog_docs\\smartphones-iqoo-13-pro.md<br>Text: iQOO 13 Pro\n\nCategory: smartphones SKU: SMA-KGP5P3HL Release Year: 2022 Price (USD): $457.0\n\nSummary...",
          "Type: ./catalog_docs\\smartphones-iqoo-13-pro.md<br>Text: USB-C cable\n\nSIM ejector\n\nQuick start guide\n\nAdditional Details\n\nDimensions: 5.4 x 29.5 x 14.5 cm\n\nW...",
          "Type: ./catalog_docs\\smartphones-lava-blaze-pro-5g.md<br>Text: Lava Blaze Pro 5G\n\nCategory: smartphones SKU: SMA-4DRB35GH Release Year: 2023 Price (USD): $825.75\n\n...",
          "Type: ./catalog_docs\\smartphones-lava-blaze-pro-5g.md<br>Text: USB-C cable\n\nSIM ejector\n\nQuick start guide\n\nAdditional Details\n\nDimensions: 23.6 x 24.1 x 19.2 cm\n\n...",
          "Type: ./catalog_docs\\smartphones-meizu-22-pro.txt<br>Text: Product Name: Meizu 22 Pro\nCategory: smartphones\nSKU: SMA-KK1G3BE4\nRelease Year: 2023\nPrice (USD): $...",
          "Type: ./catalog_docs\\smartphones-meizu-22-pro.txt<br>Text: In the Box:\n- Phone\n- USB-C cable\n- SIM ejector\n- Quick start guide\n\nAdditional Details:\n- Dimension...",
          "Type: ./catalog_docs\\smartphones-motorola-edge-50-pro.md<br>Text: Motorola Edge 50 Pro\n\nCategory: smartphones SKU: SMA-LTQGO3NU Release Year: 2023 Price (USD): $235.2...",
          "Type: ./catalog_docs\\smartphones-motorola-edge-50-pro.md<br>Text: USB-C cable\n\nSIM ejector\n\nQuick start guide\n\nAdditional Details\n\nDimensions: 18.4 x 4.7 x 1.2 cm\n\nWe...",
          "Type: ./catalog_docs\\smartphones-nothing-phone-2a-plus.md<br>Text: Nothing Phone (2a) Plus\n\nCategory: smartphones SKU: SMA-113OJ1U2 Release Year: 2023 Price (USD): $45...",
          "Type: ./catalog_docs\\smartphones-nothing-phone-2a-plus.md<br>Text: USB-C cable\n\nSIM ejector\n\nQuick start guide\n\nAdditional Details\n\nDimensions: 21.3 x 12.2 x 8.7 cm\n\nW...",
          "Type: ./catalog_docs\\smartphones-nothing-phone-3.txt<br>Text: Product Name: Nothing Phone (3)\nCategory: smartphones\nSKU: SMA-5EVMUJVP\nRelease Year: 2025\nPrice (US...",
          "Type: ./catalog_docs\\smartphones-nothing-phone-3.txt<br>Text: In the Box:\n- Phone\n- USB-C cable\n- SIM ejector\n- Quick start guide\n\nAdditional Details:\n- Dimension...",
          "Type: ./catalog_docs\\smartphones-nubia-redmagic-10.txt<br>Text: Product Name: Nubia RedMagic 10\nCategory: smartphones\nSKU: SMA-QGLB6PRP\nRelease Year: 2025\nPrice (US...",
          "Type: ./catalog_docs\\smartphones-nubia-redmagic-10.txt<br>Text: In the Box:\n- Phone\n- USB-C cable\n- SIM ejector\n- Quick start guide\n\nAdditional Details:\n- Dimension...",
          "Type: ./catalog_docs\\smartphones-oneplus-13-pro.txt<br>Text: Product Name: OnePlus 13 Pro\nCategory: smartphones\nSKU: SMA-RCBVKP8U\nRelease Year: 2025\nPrice (USD):...",
          "Type: ./catalog_docs\\smartphones-oneplus-13-pro.txt<br>Text: In the Box:\n- Phone\n- USB-C cable\n- SIM ejector\n- Quick start guide\n\nAdditional Details:\n- Dimension...",
          "Type: ./catalog_docs\\smartphones-oppo-find-x8-pro.txt<br>Text: Product Name: Oppo Find X8 Pro\nCategory: smartphones\nSKU: SMA-0KPIEIVN\nRelease Year: 2022\nPrice (USD...",
          "Type: ./catalog_docs\\smartphones-oppo-find-x8-pro.txt<br>Text: In the Box:\n- Phone\n- USB-C cable\n- SIM ejector\n- Quick start guide\n\nAdditional Details:\n- Dimension...",
          "Type: ./catalog_docs\\smartphones-poco-f7-pro.md<br>Text: Poco F7 Pro\n\nCategory: smartphones SKU: SMA-2NUMUO6G Release Year: 2023 Price (USD): $1286.32\n\nSumma...",
          "Type: ./catalog_docs\\smartphones-poco-f7-pro.md<br>Text: Quick start guide\n\nAdditional Details\n\nDimensions: 27.2 x 15.2 x 1.6 cm\n\nWeight: 1.29 kg\n\nWarranty: ...",
          "Type: ./catalog_docs\\smartphones-realme-gt-7-pro.txt<br>Text: Product Name: Realme GT 7 Pro\nCategory: smartphones\nSKU: SMA-44IRGUHA\nRelease Year: 2023\nPrice (USD)...",
          "Type: ./catalog_docs\\smartphones-realme-gt-7-pro.txt<br>Text: In the Box:\n- Phone\n- USB-C cable\n- SIM ejector\n- Quick start guide\n\nAdditional Details:\n- Dimension...",
          "Type: ./catalog_docs\\smartphones-redmi-note-14-pro-plus.txt<br>Text: Product Name: Redmi Note 14 Pro+\nCategory: smartphones\nSKU: SMA-EUMBDJUT\nRelease Year: 2025\nPrice (U...",
          "Type: ./catalog_docs\\smartphones-redmi-note-14-pro-plus.txt<br>Text: In the Box:\n- Phone\n- USB-C cable\n- SIM ejector\n- Quick start guide\n\nAdditional Details:\n- Dimension...",
          "Type: ./catalog_docs\\smartphones-samsung-galaxy-s25-ultra.txt<br>Text: Product Name: Samsung Galaxy S25 Ultra\nCategory: smartphones\nSKU: SMA-6AHEKHCQ\nRelease Year: 2024\nPr...",
          "Type: ./catalog_docs\\smartphones-samsung-galaxy-s25-ultra.txt<br>Text: In the Box:\n- Phone\n- USB-C cable\n- SIM ejector\n- Quick start guide\n\nAdditional Details:\n- Dimension...",
          "Type: ./catalog_docs\\smartphones-sony-xperia-1-vii.md<br>Text: Sony Xperia 1 VII\n\nCategory: smartphones SKU: SMA-6JK9ZE5G Release Year: 2022 Price (USD): $1100.92\n...",
          "Type: ./catalog_docs\\smartphones-sony-xperia-1-vii.md<br>Text: USB-C cable\n\nSIM ejector\n\nQuick start guide\n\nAdditional Details\n\nDimensions: 7.5 x 23.2 x 17.9 cm\n\nW...",
          "Type: ./catalog_docs\\smartphones-tecno-phantom-x4.txt<br>Text: Product Name: Tecno Phantom X4\nCategory: smartphones\nSKU: SMA-UKIGHVDH\nRelease Year: 2024\nPrice (USD...",
          "Type: ./catalog_docs\\smartphones-tecno-phantom-x4.txt<br>Text: In the Box:\n- Phone\n- USB-C cable\n- SIM ejector\n- Quick start guide\n\nAdditional Details:\n- Dimension...",
          "Type: ./catalog_docs\\smartphones-vivo-x200-pro.md<br>Text: Vivo X200 Pro\n\nCategory: smartphones SKU: SMA-XZXJQSJE Release Year: 2023 Price (USD): $582.52\n\nSumm...",
          "Type: ./catalog_docs\\smartphones-vivo-x200-pro.md<br>Text: Quick start guide\n\nAdditional Details\n\nDimensions: 27.0 x 17.2 x 17.5 cm\n\nWeight: 1.54 kg\n\nWarranty:...",
          "Type: ./catalog_docs\\smartphones-xiaomi-15-ultra.md<br>Text: Xiaomi 15 Ultra\n\nCategory: smartphones SKU: SMA-KC6XMAEA Release Year: 2024 Price (USD): $324.72\n\nSu...",
          "Type: ./catalog_docs\\smartphones-xiaomi-15-ultra.md<br>Text: USB-C cable\n\nSIM ejector\n\nQuick start guide\n\nAdditional Details\n\nDimensions: 11.9 x 17.9 x 23.6 cm\n\n...",
          "Type: ./catalog_docs\\smartphones-zte-axon-60-ultra.md<br>Text: ZTE Axon 60 Ultra\n\nCategory: smartphones SKU: SMA-NGXHM906 Release Year: 2022 Price (USD): $649.24\n\n...",
          "Type: ./catalog_docs\\smartphones-zte-axon-60-ultra.md<br>Text: USB-C cable\n\nSIM ejector\n\nQuick start guide\n\nAdditional Details\n\nDimensions: 19.1 x 29.3 x 13.7 cm\n\n...",
          "Type: ./catalog_docs\\smartwatches-amazfit-gtr-5-pro.md<br>Text: Amazfit GTR 5 Pro\n\nCategory: smartwatches SKU: SMA-FN8R2OUS Release Year: 2022 Price (USD): $544.21\n...",
          "Type: ./catalog_docs\\smartwatches-amazfit-gtr-5-pro.md<br>Text: Quick start guide\n\nAdditional Details\n\nDimensions: 31.4 x 20.7 x 21.5 cm\n\nWeight: 3.34 kg\n\nWarranty:...",
          "Type: ./catalog_docs\\smartwatches-amazfit-t-rex-3.md<br>Text: Amazfit T-Rex 3\n\nCategory: smartwatches SKU: SMA-EHQEPNSI Release Year: 2025 Price (USD): $813.45\n\nS...",
          "Type: ./catalog_docs\\smartwatches-amazfit-t-rex-3.md<br>Text: Quick start guide\n\nAdditional Details\n\nDimensions: 38.4 x 13.6 x 22.5 cm\n\nWeight: 3.27 kg\n\nWarranty:...",
          "Type: ./catalog_docs\\smartwatches-apple-watch-series-10.txt<br>Text: Product Name: Apple Watch Series 10\nCategory: smartwatches\nSKU: SMA-58WIQV03\nRelease Year: 2024\nPric...",
          "Type: ./catalog_docs\\smartwatches-apple-watch-series-10.txt<br>Text: In the Box:\n- Watch\n- Strap\n- Magnetic charger\n- Quick start guide\n\nAdditional Details:\n- Dimensions...",
          "Type: ./catalog_docs\\smartwatches-boat-lunar-connect-pro.txt<br>Text: Product Name: boAt Lunar Connect Pro\nCategory: smartwatches\nSKU: SMA-NFG5FTPW\nRelease Year: 2022\nPri...",
          "Type: ./catalog_docs\\smartwatches-boat-lunar-connect-pro.txt<br>Text: In the Box:\n- Watch\n- Strap\n- Magnetic charger\n- Quick start guide\n\nAdditional Details:\n- Dimensions...",
          "Type: ./catalog_docs\\smartwatches-casio-g-shock-move-2.txt<br>Text: Product Name: Casio G-Shock Move 2\nCategory: smartwatches\nSKU: SMA-55QDGJWK\nRelease Year: 2025\nPrice...",
          "Type: ./catalog_docs\\smartwatches-casio-g-shock-move-2.txt<br>Text: In the Box:\n- Watch\n- Strap\n- Magnetic charger\n- Quick start guide\n\nAdditional Details:\n- Dimensions...",
          "Type: ./catalog_docs\\smartwatches-coros-pace-3-pro.md<br>Text: Coros Pace 3 Pro\n\nCategory: smartwatches SKU: SMA-60AQH5HY Release Year: 2023 Price (USD): $813.0\n\nS...",
          "Type: ./catalog_docs\\smartwatches-coros-pace-3-pro.md<br>Text: Quick start guide\n\nAdditional Details\n\nDimensions: 22.2 x 10.5 x 3.7 cm\n\nWeight: 0.41 kg\n\nWarranty: ...",
          "Type: ./catalog_docs\\smartwatches-fire-boltt-visionary-ultra.md<br>Text: Fire-Boltt Visionary Ultra\n\nCategory: smartwatches SKU: SMA-8EKYS4U8 Release Year: 2025 Price (USD):...",
          "Type: ./catalog_docs\\smartwatches-fire-boltt-visionary-ultra.md<br>Text: Strap\n\nMagnetic charger\n\nQuick start guide\n\nAdditional Details\n\nDimensions: 34.8 x 16.6 x 2.6 cm\n\nWe...",
          "Type: ./catalog_docs\\smartwatches-fitbit-sense-3.txt<br>Text: Product Name: Fitbit Sense 3\nCategory: smartwatches\nSKU: SMA-XJEZLHKX\nRelease Year: 2023\nPrice (USD)...",
          "Type: ./catalog_docs\\smartwatches-fitbit-sense-3.txt<br>Text: In the Box:\n- Watch\n- Strap\n- Magnetic charger\n- Quick start guide\n\nAdditional Details:\n- Dimensions...",
          "Type: ./catalog_docs\\smartwatches-fitbit-versa-5.md<br>Text: Fitbit Versa 5\n\nCategory: smartwatches SKU: SMA-8OL00B8J Release Year: 2025 Price (USD): $768.82\n\nSu...",
          "Type: ./catalog_docs\\smartwatches-fitbit-versa-5.md<br>Text: Quick start guide\n\nAdditional Details\n\nDimensions: 24.7 x 13.1 x 22.2 cm\n\nWeight: 0.89 kg\n\nWarranty:...",
          "Type: ./catalog_docs\\smartwatches-fossil-gen-7.txt<br>Text: Product Name: Fossil Gen 7\nCategory: smartwatches\nSKU: SMA-ROL27N3N\nRelease Year: 2023\nPrice (USD): ...",
          "Type: ./catalog_docs\\smartwatches-fossil-gen-7.txt<br>Text: In the Box:\n- Watch\n- Strap\n- Magnetic charger\n- Quick start guide\n\nAdditional Details:\n- Dimensions...",
          "Type: ./catalog_docs\\smartwatches-garmin-fenix-8.md<br>Text: Garmin Fenix 8\n\nCategory: smartwatches SKU: SMA-OVL02X30 Release Year: 2025 Price (USD): $527.64\n\nSu...",
          "Type: ./catalog_docs\\smartwatches-garmin-fenix-8.md<br>Text: Quick start guide\n\nAdditional Details\n\nDimensions: 16.9 x 28.6 x 3.4 cm\n\nWeight: 2.1 kg\n\nWarranty: 1...",
          "Type: ./catalog_docs\\smartwatches-garmin-venu-4.txt<br>Text: Product Name: Garmin Venu 4\nCategory: smartwatches\nSKU: SMA-A0YL4YSU\nRelease Year: 2024\nPrice (USD):...",
          "Type: ./catalog_docs\\smartwatches-garmin-venu-4.txt<br>Text: In the Box:\n- Watch\n- Strap\n- Magnetic charger\n- Quick start guide\n\nAdditional Details:\n- Dimensions...",
          "Type: ./catalog_docs\\smartwatches-google-pixel-watch-3.txt<br>Text: Product Name: Google Pixel Watch 3\nCategory: smartwatches\nSKU: SMA-4AO0OKP9\nRelease Year: 2024\nPrice...",
          "Type: ./catalog_docs\\smartwatches-google-pixel-watch-3.txt<br>Text: In the Box:\n- Watch\n- Strap\n- Magnetic charger\n- Quick start guide\n\nAdditional Details:\n- Dimensions...",
          "Type: ./catalog_docs\\smartwatches-honor-watch-gs-5.txt<br>Text: Product Name: Honor Watch GS 5\nCategory: smartwatches\nSKU: SMA-B13X14LG\nRelease Year: 2024\nPrice (US...",
          "Type: ./catalog_docs\\smartwatches-honor-watch-gs-5.txt<br>Text: In the Box:\n- Watch\n- Strap\n- Magnetic charger\n- Quick start guide\n\nAdditional Details:\n- Dimensions...",
          "Type: ./catalog_docs\\smartwatches-huawei-watch-5-pro.txt<br>Text: Product Name: Huawei Watch 5 Pro\nCategory: smartwatches\nSKU: SMA-ANQGXBVF\nRelease Year: 2023\nPrice (...",
          "Type: ./catalog_docs\\smartwatches-huawei-watch-5-pro.txt<br>Text: In the Box:\n- Watch\n- Strap\n- Magnetic charger\n- Quick start guide\n\nAdditional Details:\n- Dimensions...",
          "Type: ./catalog_docs\\smartwatches-noise-ultra-3-max.md<br>Text: Noise Ultra 3 Max\n\nCategory: smartwatches SKU: SMA-EPWNPIND Release Year: 2023 Price (USD): $859.46\n...",
          "Type: ./catalog_docs\\smartwatches-noise-ultra-3-max.md<br>Text: Quick start guide\n\nAdditional Details\n\nDimensions: 36.1 x 22.8 x 9.9 cm\n\nWeight: 3.4 kg\n\nWarranty: 3...",
          "Type: ./catalog_docs\\smartwatches-oneplus-watch-3.md<br>Text: OnePlus Watch 3\n\nCategory: smartwatches SKU: SMA-QEBTUEWI Release Year: 2022 Price (USD): $227.23\n\nS...",
          "Type: ./catalog_docs\\smartwatches-oneplus-watch-3.md<br>Text: Quick start guide\n\nAdditional Details\n\nDimensions: 31.2 x 27.5 x 14.9 cm\n\nWeight: 0.11 kg\n\nWarranty:...",
          "Type: ./catalog_docs\\smartwatches-oppo-watch-4-pro.txt<br>Text: Product Name: Oppo Watch 4 Pro\nCategory: smartwatches\nSKU: SMA-6BZS0I32\nRelease Year: 2025\nPrice (US...",
          "Type: ./catalog_docs\\smartwatches-oppo-watch-4-pro.txt<br>Text: In the Box:\n- Watch\n- Strap\n- Magnetic charger\n- Quick start guide\n\nAdditional Details:\n- Dimensions...",
          "Type: ./catalog_docs\\smartwatches-pebble-cosmos-ultra.txt<br>Text: Product Name: Pebble Cosmos Ultra\nCategory: smartwatches\nSKU: SMA-ZO6DIBMV\nRelease Year: 2022\nPrice ...",
          "Type: ./catalog_docs\\smartwatches-pebble-cosmos-ultra.txt<br>Text: In the Box:\n- Watch\n- Strap\n- Magnetic charger\n- Quick start guide\n\nAdditional Details:\n- Dimensions...",
          "Type: ./catalog_docs\\smartwatches-realme-watch-4-pro.md<br>Text: Realme Watch 4 Pro\n\nCategory: smartwatches SKU: SMA-69872K13 Release Year: 2025 Price (USD): $501.18...",
          "Type: ./catalog_docs\\smartwatches-realme-watch-4-pro.md<br>Text: Quick start guide\n\nAdditional Details\n\nDimensions: 16.3 x 23.6 x 11.0 cm\n\nWeight: 2.08 kg\n\nWarranty:...",
          "Type: ./catalog_docs\\smartwatches-samsung-galaxy-watch7-pro.md<br>Text: Samsung Galaxy Watch7 Pro\n\nCategory: smartwatches SKU: SMA-1UZMWOD7 Release Year: 2022 Price (USD): ...",
          "Type: ./catalog_docs\\smartwatches-samsung-galaxy-watch7-pro.md<br>Text: Quick start guide\n\nAdditional Details\n\nDimensions: 29.9 x 21.5 x 13.3 cm\n\nWeight: 0.05 kg\n\nWarranty:...",
          "Type: ./catalog_docs\\smartwatches-suunto-vertical-2.txt<br>Text: Product Name: Suunto Vertical 2\nCategory: smartwatches\nSKU: SMA-S3MY8PGG\nRelease Year: 2023\nPrice (U...",
          "Type: ./catalog_docs\\smartwatches-suunto-vertical-2.txt<br>Text: In the Box:\n- Watch\n- Strap\n- Magnetic charger\n- Quick start guide\n\nAdditional Details:\n- Dimensions...",
          "Type: ./catalog_docs\\smartwatches-ticwatch-pro-6.md<br>Text: TicWatch Pro 6\n\nCategory: smartwatches SKU: SMA-IONXSOGD Release Year: 2022 Price (USD): $809.74\n\nSu...",
          "Type: ./catalog_docs\\smartwatches-ticwatch-pro-6.md<br>Text: Quick start guide\n\nAdditional Details\n\nDimensions: 37.2 x 7.8 x 9.9 cm\n\nWeight: 1.91 kg\n\nWarranty: 1...",
          "Type: ./catalog_docs\\smartwatches-withings-scanwatch-2.md<br>Text: Withings ScanWatch 2\n\nCategory: smartwatches SKU: SMA-MZO4RLUD Release Year: 2023 Price (USD): $836....",
          "Type: ./catalog_docs\\smartwatches-withings-scanwatch-2.md<br>Text: Quick start guide\n\nAdditional Details\n\nDimensions: 15.2 x 12.1 x 0.9 cm\n\nWeight: 1.52 kg\n\nWarranty: ...",
          "Type: ./catalog_docs\\smartwatches-xiaomi-watch-s3-pro.txt<br>Text: Product Name: Xiaomi Watch S3 Pro\nCategory: smartwatches\nSKU: SMA-W87HIYVH\nRelease Year: 2025\nPrice ...",
          "Type: ./catalog_docs\\smartwatches-xiaomi-watch-s3-pro.txt<br>Text: In the Box:\n- Watch\n- Strap\n- Magnetic charger\n- Quick start guide\n\nAdditional Details:\n- Dimensions..."
         ],
         "type": "scatter3d",
         "x": {
          "bdata": "i1hCwRD6xEAv01nBPubOQCPETcE9Kw5B9E4/wSZqA0ED21fBPjTGQHrDW8Eh6MdAvulPwavCx0BALljBaRsMQZRKU8HGBNJAJAxPwZHZBkE+k1vBiRO7QAveQ8Gv4AZBB6xYwc2NDUHccWfBbBG/QOwJVcGOTtNAc11PwbFIBUGI+0jB36fDQEpkTMGlpAhBM7RBwW6e3ECxuEvBk0gEQRp2TsETlgRBDXJSwQZVCkFUdFbBwZMJQeYwacFaz8ZAaoVewZ10y0Bs5kfAzRuYQBHtOMCyS4pAy4zfv69fpUBwQBHAZoSNQInTLcAErYxAZpPtv16CY0Ayj9a/lpRiQGV/PMCEZFhAJj8ywMGpUkBFNgfAcV+OQPTaxr8N3JpAOMQ2wA5agkD+5gzAZqZOQPd3OcCd24NAEkJqwJIxnEDc7GLA3yagQGwGOsCykYFAFRjNvxcsokDc9znA6k1KQB5fSsDcTFJAfk/Mv+HHlkDGM+y/5+5pQJOmSMBCxYxA0mT1v4qFYEBbc86/uASZQDmE6MDHsCFBqUHxwBvKI0F1RAXB3DQeQa2O7sB8lCBBfMYDwQuTG0HDvfrAPlIYQR74zcBeSR5BWdbdwKNqJkEF2NXArSwhQaIj2cBRqRxBbrPowJMeJEH///HA/K0YQfPjK8Ns2ihB1NTfwMsoJ0FOBufAWxUrQWzkBsEg+iJBK0IDwYcn+0C3zeDAAIgqQVpW1cCp/h5B9xvVwK9SHEE2yAnBwsoZQZYX+sCnWShBQncGwaxV+0Ab4OHAs2EfQW61+8DNUyZBm3cMwcTPCkH81AzB+M/3QIGNBcHQJiVBYMkLwfMMJ0EoSxTBFbQhQSlpEMGX/AZBcTcPwZOlHkG2KAnBGrkhQScwBsEiQQZB8hkLwZYMIUFpJRnBCdgHQc/DEsEPACdBr7ECwc/rJ0Hu1QnBRk8gQUvb7cAbpClBNqkNwdW6CEEqOgHBBt0JQWl2BsGu8SVBXDURwUpTIEEPaADBP/P3QBc99cAXtwlBpwQOwVQOKUF1pvnACMAGQSUgB8Fsg/ZAOYf+wAACJUE=",
          "dtype": "f4"
         },
         "y": {
          "bdata": "BRYXwM6cbL7xy96/nnNzv5BogL/eK2g7XQMVwKWbij6EHAHAzXwMvmQ+EcAxN1S+ruofwDTIXL7kA5a/LE0/vksTGMAEsk6//wh3v1xt5b6voRjAb/E+v4Uh579GoJm+oS6dvzCxqL6ofui/3Cpvv/mnKMAgzG6/PxvWvyOTYL791gnAY1Amv0ykT7/lZiE9H3YAwMbsVL9Uc7+/QNQcPmwFr7863+G93EDzvjBzAz9AEba/yh3cPnz/q78yYJG/afD1v1T7Sr/Scpi/KB+ZvuXH4L+78la/3FbZv/1nkr6akRrAjkIVPoryGsCSlq+/q5ikv634/L84Ipi/JKeou8Rm77/NJXO98T0QwOsbZL66qSnAIKrKvbfu7b801JG/AwDdv7h6UL/FdAm/nOnjvyUIh7++f+e+pdHQv8ahh78qbxPATMVmv+wlqL9dG5G//ergv0Gfur6pVKi/BOE+v1ZoiL+Cyi2/ghQUwBI5Tr+SqgPA0xzvvsFVnb+QY5q+hvOSv/eS6b7vF/y/fGxGvy+r1j4F7QxAyrXOPuinSECEP7I/opVQQMDpfD+G20VAbAoZQPF3UkAY+fs+0L9CQBu64j/DlTxAsaX6PymtP0CKZ2c/xJEbQDRXeT+h+CZACnO7P1ovT0Bo5Zw/arExQEl/tsCHtBVAzoeBPy8vQkBa4A4/lg80QPiZNz+qMS1AbZoOQHVu4D7YDJ+92dwpQATZXT9cSBFAuJFmvVNzNEC2T4E/h5QoQL9DjT81qBRAlK5RP1aO4j6CRec/9voWQMcVWD8bUjNAeQrAP5caAMC/BMc/Ciq2vyk8Fz/O6V+/4hjlvrw21b/BnQs/1YZOvzRZ8T/UdwjAGn0NP3yQC8BRcxc/Zq3Vv/T3Mj+LkAPABnoMP3xwPr90a48/TW3wv+HwLT+Ih7G/6kg2P4JjQ7/V92k/Nwm6v6brej7kfry/iHb/PujXEMC/tHk/0Hfyv4Cvxz8lKLe/CtzuvP3E0r9sovI9FKaxv+51Zj89Xfm/0KjWPkIf0L/X+bA/jDwRwPYOtj9bFK6/scygPs6qK78=",
          "dtype": "f4"
         },
         "z": {
          "bdata": "DWf8PDXpnMB0cl2/JzWYwGTcBT43PJjApLU7vuBNlcA1nya9LV+cwJUJjj0wOI/ANiMVP5P8isDSUAy+zCKJwKgILj72743AtuVEv6X3lMCS9Ug/4mWZwDCcYD9ejpzAL/A5P3enkMAkvwk9PIuQwHI97r6BdYzASqa0PvEDiMDdino/S6GEwO+iUj+DqJ7A7lmnP5TlqcD9Cjy+M5qawLlnT75e5IfA6LYCPu66i8D1lhY+AvyHwFL3kz4p+4/Ag2/kvQxjo8DcK80/ekApPqIn/j9yiKA+xeH3Py9Ahj8qGZ0/kYRKP8PEpz8UJTI/FljRP1oVwz+uT9Q/W76qPybcOkCmPz8/2CMQQI6XbD/8uShA/8V+P09uFkCpxrY/N/QLQITSxD1LJBdAq27DP9OGDEDo7yY+GAEYQEBaIj9+4w5AQAkYP24NSEA8RZk+mplAQACKnz9DwBxAO19KPybmJkBZj14/nXwFQM6suT+f0hNAnbS6P/Q9xD8efZs9ssUnQCa4uD+pQ3Q//GTBP4zyH0AuUyU/4foTQF7JHz9XiSNAYjgHQCBmBEBm4Jg+i0gcQNkmAkDDl3RAz0kFQGNwPkAZsClASoYRQA0rEUAlWHxA6Y8XQODoJkCuh8M+ZH5ZQCn/D0DZkk5AIU4JQOZetL8FVQg/64XZP4iDJj9Kuh9Ar904P1ZOCkD9pN09yog1QCnTnj/c7Po/iFTdPpnW6z+ObhY/8nU7QL4MzT5lPk9ARMMHQJpswT+POjc/Szc7QKOlnj9P8SxACOYQQEseSEDlcRpA92tLwK4GOz+YO1bAFQxyPoWM7r+KmOe/nmv0v5gEyL8lboK/EfvUv3vXC8BMQRk/HJE1wMDrBb/aNvq/FSXGvylsIsBGdyI/ZLP3v3zdxb9EuhzADT8LP52D+b/9LIG/hmmvv2GD1b9jIKy/ZcOSvx76vL8kwZW/tag8wD/EGD9gDCfANOVZP6ontb92pXu/l90FwP8Yub9iRT/AECRoPjthKMBThXE/hsisvy1Bvr9O0BfAg2MxP+AyKcCn81A+qJiyv9HzuL8=",
          "dtype": "f4"
         }
        }
       ],
       "layout": {
        "height": 700,
        "margin": {
         "b": 10,
         "l": 10,
         "r": 20,
         "t": 40
        },
        "scene": {
         "xaxis": {
          "title": {
           "text": "x"
          }
         },
         "yaxis": {
          "title": {
           "text": "y"
          }
         },
         "zaxis": {
          "title": {
           "text": "z"
          }
         }
        },
        "template": {
         "data": {
          "bar": [
           {
            "error_x": {
             "color": "#2a3f5f"
            },
            "error_y": {
             "color": "#2a3f5f"
            },
            "marker": {
             "line": {
              "color": "#E5ECF6",
              "width": 0.5
             },
             "pattern": {
              "fillmode": "overlay",
              "size": 10,
              "solidity": 0.2
             }
            },
            "type": "bar"
           }
          ],
          "barpolar": [
           {
            "marker": {
             "line": {
              "color": "#E5ECF6",
              "width": 0.5
             },
             "pattern": {
              "fillmode": "overlay",
              "size": 10,
              "solidity": 0.2
             }
            },
            "type": "barpolar"
           }
          ],
          "carpet": [
           {
            "aaxis": {
             "endlinecolor": "#2a3f5f",
             "gridcolor": "white",
             "linecolor": "white",
             "minorgridcolor": "white",
             "startlinecolor": "#2a3f5f"
            },
            "baxis": {
             "endlinecolor": "#2a3f5f",
             "gridcolor": "white",
             "linecolor": "white",
             "minorgridcolor": "white",
             "startlinecolor": "#2a3f5f"
            },
            "type": "carpet"
           }
          ],
          "choropleth": [
           {
            "colorbar": {
             "outlinewidth": 0,
             "ticks": ""
            },
            "type": "choropleth"
           }
          ],
          "contour": [
           {
            "colorbar": {
             "outlinewidth": 0,
             "ticks": ""
            },
            "colorscale": [
             [
              0,
              "#0d0887"
             ],
             [
              0.1111111111111111,
              "#46039f"
             ],
             [
              0.2222222222222222,
              "#7201a8"
             ],
             [
              0.3333333333333333,
              "#9c179e"
             ],
             [
              0.4444444444444444,
              "#bd3786"
             ],
             [
              0.5555555555555556,
              "#d8576b"
             ],
             [
              0.6666666666666666,
              "#ed7953"
             ],
             [
              0.7777777777777778,
              "#fb9f3a"
             ],
             [
              0.8888888888888888,
              "#fdca26"
             ],
             [
              1,
              "#f0f921"
             ]
            ],
            "type": "contour"
           }
          ],
          "contourcarpet": [
           {
            "colorbar": {
             "outlinewidth": 0,
             "ticks": ""
            },
            "type": "contourcarpet"
           }
          ],
          "heatmap": [
           {
            "colorbar": {
             "outlinewidth": 0,
             "ticks": ""
            },
            "colorscale": [
             [
              0,
              "#0d0887"
             ],
             [
              0.1111111111111111,
              "#46039f"
             ],
             [
              0.2222222222222222,
              "#7201a8"
             ],
             [
              0.3333333333333333,
              "#9c179e"
             ],
             [
              0.4444444444444444,
              "#bd3786"
             ],
             [
              0.5555555555555556,
              "#d8576b"
             ],
             [
              0.6666666666666666,
              "#ed7953"
             ],
             [
              0.7777777777777778,
              "#fb9f3a"
             ],
             [
              0.8888888888888888,
              "#fdca26"
             ],
             [
              1,
              "#f0f921"
             ]
            ],
            "type": "heatmap"
           }
          ],
          "histogram": [
           {
            "marker": {
             "pattern": {
              "fillmode": "overlay",
              "size": 10,
              "solidity": 0.2
             }
            },
            "type": "histogram"
           }
          ],
          "histogram2d": [
           {
            "colorbar": {
             "outlinewidth": 0,
             "ticks": ""
            },
            "colorscale": [
             [
              0,
              "#0d0887"
             ],
             [
              0.1111111111111111,
              "#46039f"
             ],
             [
              0.2222222222222222,
              "#7201a8"
             ],
             [
              0.3333333333333333,
              "#9c179e"
             ],
             [
              0.4444444444444444,
              "#bd3786"
             ],
             [
              0.5555555555555556,
              "#d8576b"
             ],
             [
              0.6666666666666666,
              "#ed7953"
             ],
             [
              0.7777777777777778,
              "#fb9f3a"
             ],
             [
              0.8888888888888888,
              "#fdca26"
             ],
             [
              1,
              "#f0f921"
             ]
            ],
            "type": "histogram2d"
           }
          ],
          "histogram2dcontour": [
           {
            "colorbar": {
             "outlinewidth": 0,
             "ticks": ""
            },
            "colorscale": [
             [
              0,
              "#0d0887"
             ],
             [
              0.1111111111111111,
              "#46039f"
             ],
             [
              0.2222222222222222,
              "#7201a8"
             ],
             [
              0.3333333333333333,
              "#9c179e"
             ],
             [
              0.4444444444444444,
              "#bd3786"
             ],
             [
              0.5555555555555556,
              "#d8576b"
             ],
             [
              0.6666666666666666,
              "#ed7953"
             ],
             [
              0.7777777777777778,
              "#fb9f3a"
             ],
             [
              0.8888888888888888,
              "#fdca26"
             ],
             [
              1,
              "#f0f921"
             ]
            ],
            "type": "histogram2dcontour"
           }
          ],
          "mesh3d": [
           {
            "colorbar": {
             "outlinewidth": 0,
             "ticks": ""
            },
            "type": "mesh3d"
           }
          ],
          "parcoords": [
           {
            "line": {
             "colorbar": {
              "outlinewidth": 0,
              "ticks": ""
             }
            },
            "type": "parcoords"
           }
          ],
          "pie": [
           {
            "automargin": true,
            "type": "pie"
           }
          ],
          "scatter": [
           {
            "fillpattern": {
             "fillmode": "overlay",
             "size": 10,
             "solidity": 0.2
            },
            "type": "scatter"
           }
          ],
          "scatter3d": [
           {
            "line": {
             "colorbar": {
              "outlinewidth": 0,
              "ticks": ""
             }
            },
            "marker": {
             "colorbar": {
              "outlinewidth": 0,
              "ticks": ""
             }
            },
            "type": "scatter3d"
           }
          ],
          "scattercarpet": [
           {
            "marker": {
             "colorbar": {
              "outlinewidth": 0,
              "ticks": ""
             }
            },
            "type": "scattercarpet"
           }
          ],
          "scattergeo": [
           {
            "marker": {
             "colorbar": {
              "outlinewidth": 0,
              "ticks": ""
             }
            },
            "type": "scattergeo"
           }
          ],
          "scattergl": [
           {
            "marker": {
             "colorbar": {
              "outlinewidth": 0,
              "ticks": ""
             }
            },
            "type": "scattergl"
           }
          ],
          "scattermap": [
           {
            "marker": {
             "colorbar": {
              "outlinewidth": 0,
              "ticks": ""
             }
            },
            "type": "scattermap"
           }
          ],
          "scattermapbox": [
           {
            "marker": {
             "colorbar": {
              "outlinewidth": 0,
              "ticks": ""
             }
            },
            "type": "scattermapbox"
           }
          ],
          "scatterpolar": [
           {
            "marker": {
             "colorbar": {
              "outlinewidth": 0,
              "ticks": ""
             }
            },
            "type": "scatterpolar"
           }
          ],
          "scatterpolargl": [
           {
            "marker": {
             "colorbar": {
              "outlinewidth": 0,
              "ticks": ""
             }
            },
            "type": "scatterpolargl"
           }
          ],
          "scatterternary": [
           {
            "marker": {
             "colorbar": {
              "outlinewidth": 0,
              "ticks": ""
             }
            },
            "type": "scatterternary"
           }
          ],
          "surface": [
           {
            "colorbar": {
             "outlinewidth": 0,
             "ticks": ""
            },
            "colorscale": [
             [
              0,
              "#0d0887"
             ],
             [
              0.1111111111111111,
              "#46039f"
             ],
             [
              0.2222222222222222,
              "#7201a8"
             ],
             [
              0.3333333333333333,
              "#9c179e"
             ],
             [
              0.4444444444444444,
              "#bd3786"
             ],
             [
              0.5555555555555556,
              "#d8576b"
             ],
             [
              0.6666666666666666,
              "#ed7953"
             ],
             [
              0.7777777777777778,
              "#fb9f3a"
             ],
             [
              0.8888888888888888,
              "#fdca26"
             ],
             [
              1,
              "#f0f921"
             ]
            ],
            "type": "surface"
           }
          ],
          "table": [
           {
            "cells": {
             "fill": {
              "color": "#EBF0F8"
             },
             "line": {
              "color": "white"
             }
            },
            "header": {
             "fill": {
              "color": "#C8D4E3"
             },
             "line": {
              "color": "white"
             }
            },
            "type": "table"
           }
          ]
         },
         "layout": {
          "annotationdefaults": {
           "arrowcolor": "#2a3f5f",
           "arrowhead": 0,
           "arrowwidth": 1
          },
          "autotypenumbers": "strict",
          "coloraxis": {
           "colorbar": {
            "outlinewidth": 0,
            "ticks": ""
           }
          },
          "colorscale": {
           "diverging": [
            [
             0,
             "#8e0152"
            ],
            [
             0.1,
             "#c51b7d"
            ],
            [
             0.2,
             "#de77ae"
            ],
            [
             0.3,
             "#f1b6da"
            ],
            [
             0.4,
             "#fde0ef"
            ],
            [
             0.5,
             "#f7f7f7"
            ],
            [
             0.6,
             "#e6f5d0"
            ],
            [
             0.7,
             "#b8e186"
            ],
            [
             0.8,
             "#7fbc41"
            ],
            [
             0.9,
             "#4d9221"
            ],
            [
             1,
             "#276419"
            ]
           ],
           "sequential": [
            [
             0,
             "#0d0887"
            ],
            [
             0.1111111111111111,
             "#46039f"
            ],
            [
             0.2222222222222222,
             "#7201a8"
            ],
            [
             0.3333333333333333,
             "#9c179e"
            ],
            [
             0.4444444444444444,
             "#bd3786"
            ],
            [
             0.5555555555555556,
             "#d8576b"
            ],
            [
             0.6666666666666666,
             "#ed7953"
            ],
            [
             0.7777777777777778,
             "#fb9f3a"
            ],
            [
             0.8888888888888888,
             "#fdca26"
            ],
            [
             1,
             "#f0f921"
            ]
           ],
           "sequentialminus": [
            [
             0,
             "#0d0887"
            ],
            [
             0.1111111111111111,
             "#46039f"
            ],
            [
             0.2222222222222222,
             "#7201a8"
            ],
            [
             0.3333333333333333,
             "#9c179e"
            ],
            [
             0.4444444444444444,
             "#bd3786"
            ],
            [
             0.5555555555555556,
             "#d8576b"
            ],
            [
             0.6666666666666666,
             "#ed7953"
            ],
            [
             0.7777777777777778,
             "#fb9f3a"
            ],
            [
             0.8888888888888888,
             "#fdca26"
            ],
            [
             1,
             "#f0f921"
            ]
           ]
          },
          "colorway": [
           "#636efa",
           "#EF553B",
           "#00cc96",
           "#ab63fa",
           "#FFA15A",
           "#19d3f3",
           "#FF6692",
           "#B6E880",
           "#FF97FF",
           "#FECB52"
          ],
          "font": {
           "color": "#2a3f5f"
          },
          "geo": {
           "bgcolor": "white",
           "lakecolor": "white",
           "landcolor": "#E5ECF6",
           "showlakes": true,
           "showland": true,
           "subunitcolor": "white"
          },
          "hoverlabel": {
           "align": "left"
          },
          "hovermode": "closest",
          "mapbox": {
           "style": "light"
          },
          "paper_bgcolor": "white",
          "plot_bgcolor": "#E5ECF6",
          "polar": {
           "angularaxis": {
            "gridcolor": "white",
            "linecolor": "white",
            "ticks": ""
           },
           "bgcolor": "#E5ECF6",
           "radialaxis": {
            "gridcolor": "white",
            "linecolor": "white",
            "ticks": ""
           }
          },
          "scene": {
           "xaxis": {
            "backgroundcolor": "#E5ECF6",
            "gridcolor": "white",
            "gridwidth": 2,
            "linecolor": "white",
            "showbackground": true,
            "ticks": "",
            "zerolinecolor": "white"
           },
           "yaxis": {
            "backgroundcolor": "#E5ECF6",
            "gridcolor": "white",
            "gridwidth": 2,
            "linecolor": "white",
            "showbackground": true,
            "ticks": "",
            "zerolinecolor": "white"
           },
           "zaxis": {
            "backgroundcolor": "#E5ECF6",
            "gridcolor": "white",
            "gridwidth": 2,
            "linecolor": "white",
            "showbackground": true,
            "ticks": "",
            "zerolinecolor": "white"
           }
          },
          "shapedefaults": {
           "line": {
            "color": "#2a3f5f"
           }
          },
          "ternary": {
           "aaxis": {
            "gridcolor": "white",
            "linecolor": "white",
            "ticks": ""
           },
           "baxis": {
            "gridcolor": "white",
            "linecolor": "white",
            "ticks": ""
           },
           "bgcolor": "#E5ECF6",
           "caxis": {
            "gridcolor": "white",
            "linecolor": "white",
            "ticks": ""
           }
          },
          "title": {
           "x": 0.05
          },
          "xaxis": {
           "automargin": true,
           "gridcolor": "white",
           "linecolor": "white",
           "ticks": "",
           "title": {
            "standoff": 15
           },
           "zerolinecolor": "white",
           "zerolinewidth": 2
          },
          "yaxis": {
           "automargin": true,
           "gridcolor": "white",
           "linecolor": "white",
           "ticks": "",
           "title": {
            "standoff": 15
           },
           "zerolinecolor": "white",
           "zerolinewidth": 2
          }
         }
        },
        "title": {
         "text": "3D Chroma Vector Store Visualization"
        },
        "width": 900
       }
      }
     },
     "metadata": {},
     "output_type": "display_data"
    }
   ],
   "source": [
    "tsne = TSNE(n_components=3, random_state=42)\n",
    "reduced_vectors = tsne.fit_transform(vectors)\n",
    "\n",
    "# Create the 3D scatter plot\n",
    "fig = go.Figure(data=[go.Scatter3d(\n",
    "    x=reduced_vectors[:, 0],\n",
    "    y=reduced_vectors[:, 1],\n",
    "    z=reduced_vectors[:, 2],\n",
    "    mode='markers',\n",
    "    marker=dict(size=5, color=colors, opacity=0.8),\n",
    "    text=[f\"Type: {t}<br>Text: {d[:100]}...\" for t, d in zip(doc_types, documents)],\n",
    "    hoverinfo='text'\n",
    ")])\n",
    "\n",
    "fig.update_layout(\n",
    "    title='3D Chroma Vector Store Visualization',\n",
    "    scene=dict(xaxis_title='x', yaxis_title='y', zaxis_title='z'),\n",
    "    width=900,\n",
    "    height=700,\n",
    "    margin=dict(r=20, b=10, l=10, t=40)\n",
    ")\n",
    "\n",
    "fig.show()"
   ]
  },
  {
   "cell_type": "code",
   "execution_count": null,
   "id": "05dc8719",
   "metadata": {},
   "outputs": [],
   "source": []
  }
 ],
 "metadata": {
  "kernelspec": {
   "display_name": "llms",
   "language": "python",
   "name": "python3"
  },
  "language_info": {
   "codemirror_mode": {
    "name": "ipython",
    "version": 3
   },
   "file_extension": ".py",
   "mimetype": "text/x-python",
   "name": "python",
   "nbconvert_exporter": "python",
   "pygments_lexer": "ipython3",
   "version": "3.11.13"
  }
 },
 "nbformat": 4,
 "nbformat_minor": 5
}
